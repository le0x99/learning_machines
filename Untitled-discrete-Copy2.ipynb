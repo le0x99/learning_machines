{
 "cells": [
  {
   "cell_type": "code",
   "execution_count": 3,
   "id": "0eceeac7-2ffb-4872-a2b5-098642aaca55",
   "metadata": {},
   "outputs": [],
   "source": [
    "import robobo\n",
    "import pandas as pd\n",
    "import torch\n",
    "import time\n",
    "import torch.nn as nn\n",
    "import torch.nn.functional as F\n",
    "import torch.optim as optim\n",
    "from torch.distributions import Categorical, Normal\n",
    "from tqdm import tqdm\n",
    "import numpy as np\n",
    "from collections import deque"
   ]
  },
  {
   "cell_type": "code",
   "execution_count": 4,
   "id": "8ea1171b-7d30-47a4-898b-bf1617f6fce9",
   "metadata": {
    "tags": []
   },
   "outputs": [],
   "source": [
    "class Environment(robobo.SimulationRobobo):\n",
    "    def __init__(self,\n",
    "                 sim_time_s,\n",
    "                 act_granularity_s\n",
    "                 ):\n",
    "        super().__init__()\n",
    "        super().connect('192.168.1.133', 19997)\n",
    "        self.attempts = 0\n",
    "        self.sim_time = sim_time_s * 1000.\n",
    "        self.initiated = False\n",
    "        self.fps = 1000 / act_granularity_s\n",
    "        self.act_granularity = act_granularity_s * 1000\n",
    "    def start_sim(self): return self.play_simulation()\n",
    "    def end_sim(self): return self.stop_world()\n",
    "    def pause_sim(self): return self.pause_simulation()\n",
    "    def reset(self):\n",
    "        try:\n",
    "            if self.is_simulation_running():\n",
    "                self.end_sim()\n",
    "                self.start_sim()\n",
    "            else:\n",
    "                self.start_sim()\n",
    "            time.sleep(3)\n",
    "            return self.get_state()\n",
    "        except:\n",
    "            print(f\"Fail - Attempt {self.attempts}\")\n",
    "            self.attempts += 1\n",
    "            self.disconnect()\n",
    "            self.connect('192.168.1.133', 19997)\n",
    "            self.reset()\n",
    "    def get_state(self):\n",
    "        #todo do in parent class\n",
    "        X1 = np.array([[ .2 if not _ else _ for _ in env.read_irs() ]])\n",
    "        X1 = (X1 - 0.) / (.2 - 0.) \n",
    "        X1 = 1 - X1 \n",
    "        X1[0,:3] = X1[0,:3] * 1.67\n",
    "        return X1\n",
    "    def step(self, action, discrete=True):\n",
    "        if not discrete:\n",
    "            action = action[0][0] * 100\n",
    "        else:\n",
    "            action = {0:(20,20) , 1:(-20,-20)}[action]\n",
    "        self.move(action[0], action[1], self.act_granularity)\n",
    "        new_state = self.get_state()\n",
    "        reward = -np.exp(new_state.sum()) #(1 - new_state).sum() \n",
    "        done = True if self.get_sim_time() > self.sim_time else False\n",
    "        return new_state, reward, done\n",
    "\n",
    "            "
   ]
  },
  {
   "cell_type": "code",
   "execution_count": 5,
   "id": "632706cc-217b-4b61-a379-d047bb0fc47a",
   "metadata": {},
   "outputs": [],
   "source": [
    "#discount factor for future utilities\n",
    "DISCOUNT_FACTOR = 1 # .99\n",
    "ACTION_SPACE = 2\n",
    "OBSERVATION_SPACE = 8\n",
    "#number of episodes to run\n",
    "NUM_EPISODES = 500\n",
    "# duration of actuators in s\n",
    "ACT_GRANULARITY = .5\n",
    "#max steps per episode\n",
    "MAX_STEPS = 1000\n",
    "#max sim time in s\n",
    "MAX_SIM_TIME = np.inf\n",
    "# limit variance\n",
    "LOG_SIG_MAX = 2\n",
    "LOG_SIG_MIN = -20\n",
    "#device to run model on \n",
    "DEVICE = \"cpu\""
   ]
  },
  {
   "cell_type": "code",
   "execution_count": 6,
   "id": "3d17162d-a701-44e1-b8f2-4d66aee1c596",
   "metadata": {},
   "outputs": [],
   "source": [
    "#Using a neural network to learn our policy parameters\n",
    "class PolicyNetwork(nn.Module):\n",
    "    \n",
    "    #Takes in observations and outputs actions\n",
    "    def __init__(self, observation_space, action_space):\n",
    "        super(PolicyNetwork, self).__init__()\n",
    "        self.input_layer = nn.Linear(observation_space, 32)\n",
    "        self.output_layer = nn.Linear(32, action_space)\n",
    "    \n",
    "    #forward pass\n",
    "    def forward(self, x):\n",
    "        #input states\n",
    "        x = self.input_layer(x)\n",
    "        #relu activation\n",
    "        x = F.relu(x)\n",
    "        #actions\n",
    "        actions = self.output_layer(x)\n",
    "        action_probs = F.softmax(actions, dim=1)\n",
    "        return action_probs"
   ]
  },
  {
   "cell_type": "code",
   "execution_count": 7,
   "id": "1c9f1b24-c66e-4898-8f90-1706c5835797",
   "metadata": {},
   "outputs": [],
   "source": [
    "#Using a neural network to learn state value\n",
    "class StateValueNetwork(nn.Module):\n",
    "    \n",
    "    #Takes in state\n",
    "    def __init__(self, observation_space):\n",
    "        super(StateValueNetwork, self).__init__()\n",
    "        \n",
    "        self.input_layer = nn.Linear(observation_space, 32)\n",
    "        self.output_layer = nn.Linear(32, 1)\n",
    "        \n",
    "    def forward(self, x):\n",
    "        #input layer\n",
    "        x = self.input_layer(x)\n",
    "        \n",
    "        #activiation relu\n",
    "        x = F.relu(x)\n",
    "        \n",
    "        #get state value\n",
    "        state_value = self.output_layer(x)\n",
    "        \n",
    "        return state_value"
   ]
  },
  {
   "cell_type": "code",
   "execution_count": 8,
   "id": "a86a983b-0bea-4bfe-979d-cfec74f49cda",
   "metadata": {},
   "outputs": [],
   "source": [
    "def select_action(network, state):\n",
    "    ''' Selects an action given current state\n",
    "    Args:\n",
    "    - network (Torch NN): network to process state\n",
    "    - state (Array): Array of action space in an environment\n",
    "    \n",
    "    Return:'\n",
    "    - (int): action that is selected\n",
    "    - (float): log probability of selecting that action given state and network\n",
    "    '''\n",
    "    \n",
    "    #convert state to float tensor, add 1 dimension, allocate tensor on device\n",
    "    state = torch.from_numpy(state).float().to(DEVICE)\n",
    "    \n",
    "    #use network to predict action probabilities\n",
    "    action_probs = network(state)\n",
    "    state = state.detach()\n",
    "    \n",
    "    #sample an action using the probability distribution\n",
    "    m = Categorical(action_probs)\n",
    "    action = m.sample()\n",
    "    \n",
    "    #return action\n",
    "    return action.item(), m.log_prob(action)"
   ]
  },
  {
   "cell_type": "code",
   "execution_count": 9,
   "id": "62771a7a-8862-4456-b9ef-de01f4686d11",
   "metadata": {},
   "outputs": [
    {
     "ename": "NameError",
     "evalue": "name 'env' is not defined",
     "output_type": "error",
     "traceback": [
      "\u001b[0;31m---------------------------------------------------------------------------\u001b[0m",
      "\u001b[0;31mNameError\u001b[0m                                 Traceback (most recent call last)",
      "\u001b[0;32m/tmp/ipykernel_457198/546625659.py\u001b[0m in \u001b[0;36m<module>\u001b[0;34m\u001b[0m\n\u001b[0;32m----> 1\u001b[0;31m \u001b[0menv\u001b[0m\u001b[0;34m.\u001b[0m\u001b[0mdisconnect\u001b[0m\u001b[0;34m(\u001b[0m\u001b[0;34m)\u001b[0m\u001b[0;34m\u001b[0m\u001b[0;34m\u001b[0m\u001b[0m\n\u001b[0m",
      "\u001b[0;31mNameError\u001b[0m: name 'env' is not defined"
     ]
    }
   ],
   "source": [
    "env.disconnect()"
   ]
  },
  {
   "cell_type": "code",
   "execution_count": 10,
   "id": "c99e6250-3cc0-4f32-88bf-55c23777fac8",
   "metadata": {
    "tags": []
   },
   "outputs": [
    {
     "name": "stdout",
     "output_type": "stream",
     "text": [
      "Connected to remote API server: client id 0\n"
     ]
    }
   ],
   "source": [
    "# Init environment\n",
    "env = Environment(MAX_SIM_TIME, ACT_GRANULARITY)\n",
    "#Init network\n",
    "policy_network = PolicyNetwork(OBSERVATION_SPACE, ACTION_SPACE).to(DEVICE)\n",
    "stateval_network = StateValueNetwork(OBSERVATION_SPACE).to(DEVICE)\n",
    "\n",
    "#Init optimizer\n",
    "policy_optimizer = optim.SGD(policy_network.parameters(), lr=0.001)\n",
    "stateval_optimizer = optim.SGD(stateval_network.parameters(), lr=0.001)"
   ]
  },
  {
   "cell_type": "code",
   "execution_count": 11,
   "id": "c4d1938a-359f-4814-8d0e-46f79e3804af",
   "metadata": {},
   "outputs": [],
   "source": [
    "#init variables\n",
    "state = env.reset()\n",
    "if state is None:\n",
    "    state = env.get_state()\n",
    "done = False\n",
    "score = 0\n",
    "I = 1\n",
    "pls, vls, rws = [], [], []"
   ]
  },
  {
   "cell_type": "code",
   "execution_count": 19,
   "id": "3af15e03-d189-49b1-8ba6-a03dc2a15eda",
   "metadata": {
    "tags": []
   },
   "outputs": [
    {
     "name": "stdout",
     "output_type": "stream",
     "text": [
      "policy :  tensor(0.)\n",
      "value  :  tensor(-0.0137)\n",
      "policy :  tensor(0.)\n",
      "value  :  tensor(-0.8489)\n",
      "policy :  tensor(0.)\n",
      "value  :  tensor(0.7284)\n",
      "policy :  tensor(0.)\n",
      "value  :  tensor(-0.7145)\n",
      "policy :  tensor(0.)\n",
      "value  :  tensor(0.6125)\n",
      "policy :  tensor(-4.8778e-08)\n",
      "value  :  tensor(0.2365)\n",
      "policy :  tensor(0.)\n",
      "value  :  tensor(-0.2824)\n",
      "policy :  tensor(0.)\n",
      "value  :  tensor(0.2826)\n",
      "policy :  tensor(-9.5053e-08)\n",
      "value  :  tensor(0.)\n",
      "policy :  tensor(0.)\n",
      "value  :  tensor(0.)\n",
      "policy :  tensor(0.)\n",
      "value  :  tensor(-0.7619)\n",
      "policy :  tensor(0.)\n",
      "value  :  tensor(0.4983)\n",
      "policy :  tensor(0.)\n",
      "value  :  tensor(0.2639)\n",
      "policy :  tensor(1.1001e-07)\n",
      "value  :  tensor(0.)\n",
      "policy :  tensor(0.)\n",
      "value  :  tensor(0.)\n",
      "policy :  tensor(0.)\n",
      "value  :  tensor(0.)\n",
      "policy :  tensor(0.)\n",
      "value  :  tensor(0.)\n",
      "policy :  tensor(0.)\n",
      "value  :  tensor(0.)\n",
      "policy :  tensor(0.)\n",
      "value  :  tensor(0.)\n",
      "policy :  tensor(0.)\n",
      "value  :  tensor(0.)\n",
      "policy :  tensor(0.)\n",
      "value  :  tensor(-0.2100)\n",
      "policy :  tensor(0.)\n",
      "value  :  tensor(0.2100)\n",
      "policy :  tensor(-1.1455e-07)\n",
      "value  :  tensor(-0.0604)\n",
      "policy :  tensor(4.2585e-07)\n",
      "value  :  tensor(0.0604)\n",
      "policy :  tensor(0.)\n",
      "value  :  tensor(0.)\n",
      "policy :  tensor(0.)\n",
      "value  :  tensor(0.)\n",
      "policy :  tensor(0.)\n",
      "value  :  tensor(0.)\n",
      "policy :  tensor(1.9011e-07)\n",
      "value  :  tensor(0.)\n",
      "policy :  tensor(0.)\n",
      "value  :  tensor(0.)\n",
      "policy :  tensor(0.)\n",
      "value  :  tensor(0.)\n",
      "policy :  tensor(0.)\n",
      "value  :  tensor(0.)\n",
      "policy :  tensor(0.)\n",
      "value  :  tensor(0.)\n",
      "policy :  tensor(0.)\n",
      "value  :  tensor(0.)\n",
      "policy :  tensor(0.)\n",
      "value  :  tensor(0.)\n",
      "policy :  tensor(-1.1182e-07)\n",
      "value  :  tensor(0.)\n",
      "policy :  tensor(0.)\n",
      "value  :  tensor(0.)\n",
      "policy :  tensor(0.)\n",
      "value  :  tensor(0.)\n",
      "policy :  tensor(0.)\n",
      "value  :  tensor(0.)\n",
      "policy :  tensor(0.)\n",
      "value  :  tensor(0.)\n",
      "policy :  tensor(0.)\n",
      "value  :  tensor(0.)\n",
      "policy :  tensor(1.7148e-07)\n",
      "value  :  tensor(0.)\n",
      "policy :  tensor(-1.1374e-07)\n",
      "value  :  tensor(0.)\n",
      "policy :  tensor(0.)\n",
      "value  :  tensor(0.)\n",
      "policy :  tensor(0.)\n",
      "value  :  tensor(0.)\n",
      "policy :  tensor(0.)\n",
      "value  :  tensor(0.)\n",
      "policy :  tensor(0.)\n",
      "value  :  tensor(0.)\n",
      "policy :  tensor(2.0326e-07)\n",
      "value  :  tensor(0.)\n",
      "policy :  tensor(1.9942e-07)\n",
      "value  :  tensor(0.)\n",
      "policy :  tensor(1.8650e-07)\n",
      "value  :  tensor(0.)\n",
      "policy :  tensor(-1.0617e-07)\n",
      "value  :  tensor(0.)\n",
      "policy :  tensor(0.)\n",
      "value  :  tensor(0.)\n",
      "policy :  tensor(-1.0617e-07)\n",
      "value  :  tensor(0.)\n",
      "policy :  tensor(0.)\n",
      "value  :  tensor(0.)\n",
      "policy :  tensor(0.)\n",
      "value  :  tensor(0.)\n",
      "policy :  tensor(6.1584e-08)\n",
      "value  :  tensor(-0.2045)\n",
      "policy :  tensor(0.)\n",
      "value  :  tensor(-4.5996)\n",
      "policy :  tensor(1.3133e-09)\n",
      "value  :  tensor(3.5877)\n",
      "policy :  tensor(1.7586e-08)\n",
      "value  :  tensor(0.7570)\n",
      "policy :  tensor(-2.7358e-08)\n",
      "value  :  tensor(0.4622)\n",
      "policy :  tensor(0.)\n",
      "value  :  tensor(0.)\n",
      "policy :  tensor(1.0442e-07)\n",
      "value  :  tensor(0.)\n",
      "policy :  tensor(0.)\n",
      "value  :  tensor(0.)\n",
      "policy :  tensor(0.)\n",
      "value  :  tensor(0.)\n",
      "policy :  tensor(0.)\n",
      "value  :  tensor(0.)\n",
      "policy :  tensor(0.)\n",
      "value  :  tensor(0.)\n",
      "policy :  tensor(-2.0885e-07)\n",
      "value  :  tensor(0.)\n",
      "policy :  tensor(-2.3865e-07)\n",
      "value  :  tensor(0.)\n",
      "policy :  tensor(-1.2491e-07)\n",
      "value  :  tensor(0.)\n",
      "policy :  tensor(0.)\n",
      "value  :  tensor(0.)\n",
      "policy :  tensor(0.)\n",
      "value  :  tensor(0.)\n",
      "policy :  tensor(0.)\n",
      "value  :  tensor(0.)\n",
      "policy :  tensor(0.)\n",
      "value  :  tensor(0.)\n",
      "policy :  tensor(0.)\n",
      "value  :  tensor(0.)\n",
      "policy :  tensor(0.)\n",
      "value  :  tensor(0.)\n",
      "policy :  tensor(0.)\n",
      "value  :  tensor(0.)\n",
      "policy :  tensor(0.)\n",
      "value  :  tensor(0.)\n",
      "policy :  tensor(-1.0349e-07)\n",
      "value  :  tensor(0.)\n",
      "policy :  tensor(0.)\n",
      "value  :  tensor(0.)\n",
      "policy :  tensor(0.)\n",
      "value  :  tensor(0.)\n",
      "policy :  tensor(0.)\n",
      "value  :  tensor(0.)\n",
      "policy :  tensor(0.)\n",
      "value  :  tensor(0.)\n",
      "policy :  tensor(0.)\n",
      "value  :  tensor(0.)\n",
      "policy :  tensor(0.)\n",
      "value  :  tensor(0.)\n",
      "policy :  tensor(-9.0455e-08)\n",
      "value  :  tensor(0.)\n",
      "policy :  tensor(0.)\n",
      "value  :  tensor(0.)\n",
      "policy :  tensor(0.)\n",
      "value  :  tensor(0.)\n",
      "policy :  tensor(0.)\n",
      "value  :  tensor(0.)\n",
      "policy :  tensor(0.)\n",
      "value  :  tensor(0.)\n",
      "policy :  tensor(0.)\n",
      "value  :  tensor(0.)\n",
      "policy :  tensor(0.)\n",
      "value  :  tensor(0.)\n",
      "policy :  tensor(0.)\n",
      "value  :  tensor(0.)\n",
      "policy :  tensor(0.)\n",
      "value  :  tensor(0.)\n",
      "policy :  tensor(0.)\n",
      "value  :  tensor(0.)\n",
      "policy :  tensor(0.)\n",
      "value  :  tensor(0.)\n",
      "policy :  tensor(0.)\n",
      "value  :  tensor(0.)\n",
      "policy :  tensor(0.)\n",
      "value  :  tensor(0.)\n",
      "policy :  tensor(-1.0629e-07)\n",
      "value  :  tensor(0.)\n",
      "policy :  tensor(0.)\n",
      "value  :  tensor(0.)\n",
      "policy :  tensor(0.)\n",
      "value  :  tensor(0.)\n",
      "policy :  tensor(0.)\n",
      "value  :  tensor(0.)\n"
     ]
    }
   ],
   "source": [
    "for i in range(100):\n",
    "    #get action and log probability\n",
    "    action, lp = select_action(policy_network, state)\n",
    "\n",
    "    #step with action\n",
    "    new_state, reward, done = env.step(action)\n",
    "\n",
    "    #update episode score\n",
    "    score += reward\n",
    "\n",
    "    #get state value of current state\n",
    "    state_tensor = torch.from_numpy(state).float().to(DEVICE)\n",
    "    state_val = stateval_network(state_tensor)\n",
    "\n",
    "    #get state value of next state\n",
    "    new_state_tensor = torch.from_numpy(new_state).float().to(DEVICE)  \n",
    "    new_state_val = stateval_network(new_state_tensor)\n",
    "\n",
    "    #if terminal state, next state val is 0\n",
    "    if done:\n",
    "        new_state_val = torch.tensor([0]).float().to(DEVICE)\n",
    "\n",
    "    #calculate value function loss with MSE\n",
    "    #val_loss = F.mse_loss(reward + DISCOUNT_FACTOR * new_state_val, state_val)\n",
    "    val_loss = F.smooth_l1_loss(reward + DISCOUNT_FACTOR * new_state_val, state_val)\n",
    "    val_loss *= I\n",
    "\n",
    "    #calculate policy loss\n",
    "    advantage = reward + DISCOUNT_FACTOR * new_state_val.item() - state_val.item()\n",
    "    policy_loss = -lp * advantage\n",
    "    policy_loss *= I\n",
    "    \n",
    "    #Backpropagate policy\n",
    "    policy_optimizer.zero_grad()\n",
    "    policy_loss.backward(retain_graph=True)\n",
    "    policy_optimizer.step()\n",
    "\n",
    "    #Backpropagate value\n",
    "    stateval_optimizer.zero_grad()\n",
    "    val_loss.backward(retain_graph=False)\n",
    "    stateval_optimizer.step()\n",
    "\n",
    "    \n",
    "    #move into new state, discount I\n",
    "    state = new_state\n",
    "    I *= DISCOUNT_FACTOR\n",
    "    #print(reward.item(), action)\n",
    "    pls.append(policy_loss.item())\n",
    "    vls.append(val_loss.item())\n",
    "    rws.append(reward.item())\n",
    "    print(\"policy : \", policy_network.output_layer.weight.grad.sum())\n",
    "    print(\"value  : \", stateval_network.output_layer.weight.grad.sum())"
   ]
  },
  {
   "cell_type": "code",
   "execution_count": 16,
   "id": "00cd0366-d9ff-43d1-ae80-355b5f44d564",
   "metadata": {},
   "outputs": [
    {
     "data": {
      "text/plain": [
       "array([<AxesSubplot:>, <AxesSubplot:>, <AxesSubplot:>], dtype=object)"
      ]
     },
     "execution_count": 16,
     "metadata": {},
     "output_type": "execute_result"
    },
    {
     "data": {
      "image/png": "[encoded data removed]",
      "text/plain": [
       "<Figure size 432x288 with 3 Axes>"
      ]
     },
     "metadata": {
      "needs_background": "light"
     },
     "output_type": "display_data"
    }
   ],
   "source": [
    "pd.DataFrame([pls, vls, rws]).T.rolling(10).mean().plot(subplots=True)"
   ]
  },
  {
   "cell_type": "code",
   "execution_count": 27,
   "id": "67c51334-9a82-45c8-ab7c-ba88d478a16f",
   "metadata": {},
   "outputs": [
    {
     "data": {
      "text/plain": [
       "tensor(627.1545)"
      ]
     },
     "execution_count": 27,
     "metadata": {},
     "output_type": "execute_result"
    }
   ],
   "source": [
    "stateval_network.input_layer.weight.grad.sum()"
   ]
  },
  {
   "cell_type": "code",
   "execution_count": 28,
   "id": "b28ca9e1-6c95-4662-8b27-fc1617d00245",
   "metadata": {},
   "outputs": [
    {
     "data": {
      "text/plain": [
       "tensor(0.)"
      ]
     },
     "execution_count": 28,
     "metadata": {},
     "output_type": "execute_result"
    }
   ],
   "source": [
    "policy_network.output_layer.weight.grad.sum()"
   ]
  },
  {
   "cell_type": "code",
   "execution_count": 11,
   "id": "5d2d6eec-3c24-43ba-a74d-bb6e15d5359b",
   "metadata": {
    "tags": []
   },
   "outputs": [
    {
     "name": "stdout",
     "output_type": "stream",
     "text": [
      "[0.01604992 0.47376559 0.01564194 0.         0.         0.\n",
      " 0.         0.        ] -->  1\n",
      "[0.         0.         0.         0.27035554 0.43466926 0.50687068\n",
      " 0.43606044 0.27161222] -->  0\n",
      "[0.08284761 0.52791824 0.08562889 0.         0.         0.\n",
      " 0.         0.        ] -->  1\n",
      "[1.51482654 1.66057954 1.51593974 0.         0.         0.\n",
      " 0.         0.        ] -->  1\n",
      "[1.51570233 1.6605822  1.51559648 0.         0.         0.\n",
      " 0.         0.        ] -->  1\n",
      "[0.         0.07492463 0.         0.         0.         0.\n",
      " 0.         0.        ] -->  0\n",
      "[1.5120895  1.65799437 1.51342082 0.         0.         0.\n",
      " 0.         0.        ] -->  1\n",
      "[1.51907961 1.66007543 1.51293388 0.         0.         0.\n",
      " 0.         0.        ] -->  1\n",
      "[1.52306073 1.65969285 1.50952326 0.         0.         0.\n",
      " 0.         0.        ] -->  1\n"
     ]
    },
    {
     "ename": "KeyboardInterrupt",
     "evalue": "",
     "output_type": "error",
     "traceback": [
      "\u001b[0;31m---------------------------------------------------------------------------\u001b[0m",
      "\u001b[0;31mKeyboardInterrupt\u001b[0m                         Traceback (most recent call last)",
      "\u001b[0;32m/tmp/ipykernel_448451/601101971.py\u001b[0m in \u001b[0;36m<module>\u001b[0;34m\u001b[0m\n\u001b[1;32m     14\u001b[0m \u001b[0;34m\u001b[0m\u001b[0m\n\u001b[1;32m     15\u001b[0m     \u001b[0;31m#step with action\u001b[0m\u001b[0;34m\u001b[0m\u001b[0;34m\u001b[0m\u001b[0;34m\u001b[0m\u001b[0m\n\u001b[0;32m---> 16\u001b[0;31m     \u001b[0mnew_state\u001b[0m\u001b[0;34m,\u001b[0m \u001b[0mreward\u001b[0m\u001b[0;34m,\u001b[0m \u001b[0mdone\u001b[0m \u001b[0;34m=\u001b[0m \u001b[0menv\u001b[0m\u001b[0;34m.\u001b[0m\u001b[0mstep\u001b[0m\u001b[0;34m(\u001b[0m\u001b[0maction\u001b[0m\u001b[0;34m)\u001b[0m\u001b[0;34m\u001b[0m\u001b[0;34m\u001b[0m\u001b[0m\n\u001b[0m\u001b[1;32m     17\u001b[0m \u001b[0;34m\u001b[0m\u001b[0m\n\u001b[1;32m     18\u001b[0m     \u001b[0;31m#update episode score\u001b[0m\u001b[0;34m\u001b[0m\u001b[0;34m\u001b[0m\u001b[0;34m\u001b[0m\u001b[0m\n",
      "\u001b[0;32m/tmp/ipykernel_448451/4039380981.py\u001b[0m in \u001b[0;36mstep\u001b[0;34m(self, action, discrete)\u001b[0m\n\u001b[1;32m     41\u001b[0m         \u001b[0;32melse\u001b[0m\u001b[0;34m:\u001b[0m\u001b[0;34m\u001b[0m\u001b[0;34m\u001b[0m\u001b[0m\n\u001b[1;32m     42\u001b[0m             \u001b[0maction\u001b[0m \u001b[0;34m=\u001b[0m \u001b[0;34m{\u001b[0m\u001b[0;36m0\u001b[0m\u001b[0;34m:\u001b[0m\u001b[0;34m(\u001b[0m\u001b[0;36m20\u001b[0m\u001b[0;34m,\u001b[0m\u001b[0;36m20\u001b[0m\u001b[0;34m)\u001b[0m \u001b[0;34m,\u001b[0m \u001b[0;36m1\u001b[0m\u001b[0;34m:\u001b[0m\u001b[0;34m(\u001b[0m\u001b[0;34m-\u001b[0m\u001b[0;36m20\u001b[0m\u001b[0;34m,\u001b[0m\u001b[0;34m-\u001b[0m\u001b[0;36m20\u001b[0m\u001b[0;34m)\u001b[0m\u001b[0;34m}\u001b[0m\u001b[0;34m[\u001b[0m\u001b[0maction\u001b[0m\u001b[0;34m]\u001b[0m\u001b[0;34m\u001b[0m\u001b[0;34m\u001b[0m\u001b[0m\n\u001b[0;32m---> 43\u001b[0;31m         \u001b[0mself\u001b[0m\u001b[0;34m.\u001b[0m\u001b[0mmove\u001b[0m\u001b[0;34m(\u001b[0m\u001b[0maction\u001b[0m\u001b[0;34m[\u001b[0m\u001b[0;36m0\u001b[0m\u001b[0;34m]\u001b[0m\u001b[0;34m,\u001b[0m \u001b[0maction\u001b[0m\u001b[0;34m[\u001b[0m\u001b[0;36m1\u001b[0m\u001b[0;34m]\u001b[0m\u001b[0;34m,\u001b[0m \u001b[0mself\u001b[0m\u001b[0;34m.\u001b[0m\u001b[0mact_granularity\u001b[0m\u001b[0;34m)\u001b[0m\u001b[0;34m\u001b[0m\u001b[0;34m\u001b[0m\u001b[0m\n\u001b[0m\u001b[1;32m     44\u001b[0m         \u001b[0mnew_state\u001b[0m \u001b[0;34m=\u001b[0m \u001b[0mself\u001b[0m\u001b[0;34m.\u001b[0m\u001b[0mget_state\u001b[0m\u001b[0;34m(\u001b[0m\u001b[0;34m)\u001b[0m\u001b[0;34m\u001b[0m\u001b[0;34m\u001b[0m\u001b[0m\n\u001b[1;32m     45\u001b[0m         \u001b[0mreward\u001b[0m \u001b[0;34m=\u001b[0m \u001b[0;34m-\u001b[0m\u001b[0mnp\u001b[0m\u001b[0;34m.\u001b[0m\u001b[0mexp\u001b[0m\u001b[0;34m(\u001b[0m\u001b[0mnew_state\u001b[0m\u001b[0;34m.\u001b[0m\u001b[0msum\u001b[0m\u001b[0;34m(\u001b[0m\u001b[0;34m)\u001b[0m\u001b[0;34m)\u001b[0m \u001b[0;31m#(1 - new_state).sum()\u001b[0m\u001b[0;34m\u001b[0m\u001b[0;34m\u001b[0m\u001b[0m\n",
      "\u001b[0;32m~/learning_machines/learning_machines_robobo/src/robobo/simulation.py\u001b[0m in \u001b[0;36mmove\u001b[0;34m(self, left, right, millis)\u001b[0m\n\u001b[1;32m    168\u001b[0m         \u001b[0;31m# busy waiting\u001b[0m\u001b[0;34m\u001b[0m\u001b[0;34m\u001b[0m\u001b[0;34m\u001b[0m\u001b[0m\n\u001b[1;32m    169\u001b[0m         \u001b[0mstart_time\u001b[0m \u001b[0;34m=\u001b[0m \u001b[0mself\u001b[0m\u001b[0;34m.\u001b[0m\u001b[0mget_sim_time\u001b[0m\u001b[0;34m(\u001b[0m\u001b[0;34m)\u001b[0m\u001b[0;34m\u001b[0m\u001b[0;34m\u001b[0m\u001b[0m\n\u001b[0;32m--> 170\u001b[0;31m         \u001b[0;32mwhile\u001b[0m \u001b[0mself\u001b[0m\u001b[0;34m.\u001b[0m\u001b[0mget_sim_time\u001b[0m\u001b[0;34m(\u001b[0m\u001b[0;34m)\u001b[0m \u001b[0;34m-\u001b[0m \u001b[0mstart_time\u001b[0m \u001b[0;34m<\u001b[0m \u001b[0mduration\u001b[0m\u001b[0;34m:\u001b[0m\u001b[0;34m\u001b[0m\u001b[0;34m\u001b[0m\u001b[0m\n\u001b[0m\u001b[1;32m    171\u001b[0m             \u001b[0;32mpass\u001b[0m\u001b[0;34m\u001b[0m\u001b[0;34m\u001b[0m\u001b[0m\n\u001b[1;32m    172\u001b[0m \u001b[0;34m\u001b[0m\u001b[0m\n",
      "\u001b[0;32m~/learning_machines/learning_machines_robobo/src/robobo/simulation.py\u001b[0m in \u001b[0;36mget_sim_time\u001b[0;34m(self)\u001b[0m\n\u001b[1;32m    327\u001b[0m         \u001b[0;34m:\u001b[0m\u001b[0;32mreturn\u001b[0m\u001b[0;34m:\u001b[0m \u001b[0msimulation\u001b[0m \u001b[0mtime\u001b[0m \u001b[0;32min\u001b[0m \u001b[0mmilliseconds\u001b[0m\u001b[0;34m.\u001b[0m\u001b[0;34m\u001b[0m\u001b[0;34m\u001b[0m\u001b[0m\n\u001b[1;32m    328\u001b[0m         \"\"\"\n\u001b[0;32m--> 329\u001b[0;31m         \u001b[0mself\u001b[0m\u001b[0;34m.\u001b[0m\u001b[0mwait_for_ping\u001b[0m\u001b[0;34m(\u001b[0m\u001b[0;34m)\u001b[0m\u001b[0;34m\u001b[0m\u001b[0;34m\u001b[0m\u001b[0m\n\u001b[0m\u001b[1;32m    330\u001b[0m         \u001b[0;32mreturn\u001b[0m \u001b[0mvrep\u001b[0m\u001b[0;34m.\u001b[0m\u001b[0msimxGetLastCmdTime\u001b[0m\u001b[0;34m(\u001b[0m\u001b[0mself\u001b[0m\u001b[0;34m.\u001b[0m\u001b[0m_clientID\u001b[0m\u001b[0;34m)\u001b[0m\u001b[0;34m\u001b[0m\u001b[0;34m\u001b[0m\u001b[0m\n\u001b[1;32m    331\u001b[0m \u001b[0;34m\u001b[0m\u001b[0m\n",
      "\u001b[0;32m~/learning_machines/learning_machines_robobo/src/robobo/simulation.py\u001b[0m in \u001b[0;36mwait_for_ping\u001b[0;34m(self, timeout_seconds)\u001b[0m\n\u001b[1;32m    100\u001b[0m         \u001b[0;32mwhile\u001b[0m \u001b[0mtime\u001b[0m\u001b[0;34m.\u001b[0m\u001b[0mtime\u001b[0m\u001b[0;34m(\u001b[0m\u001b[0;34m)\u001b[0m \u001b[0;34m-\u001b[0m \u001b[0mstartTime\u001b[0m \u001b[0;34m<\u001b[0m \u001b[0mtimeout_seconds\u001b[0m\u001b[0;34m:\u001b[0m\u001b[0;34m\u001b[0m\u001b[0;34m\u001b[0m\u001b[0m\n\u001b[1;32m    101\u001b[0m             \u001b[0;32mtry\u001b[0m\u001b[0;34m:\u001b[0m\u001b[0;34m\u001b[0m\u001b[0;34m\u001b[0m\u001b[0m\n\u001b[0;32m--> 102\u001b[0;31m                 \u001b[0mself\u001b[0m\u001b[0;34m.\u001b[0m\u001b[0m_vrep_get_ping_time\u001b[0m\u001b[0;34m(\u001b[0m\u001b[0;34m)\u001b[0m\u001b[0;34m\u001b[0m\u001b[0;34m\u001b[0m\u001b[0m\n\u001b[0m\u001b[1;32m    103\u001b[0m                 \u001b[0;31m# print(\"check success\")\u001b[0m\u001b[0;34m\u001b[0m\u001b[0;34m\u001b[0m\u001b[0;34m\u001b[0m\u001b[0m\n\u001b[1;32m    104\u001b[0m                 \u001b[0;32mreturn\u001b[0m \u001b[0;32mTrue\u001b[0m\u001b[0;34m\u001b[0m\u001b[0;34m\u001b[0m\u001b[0m\n",
      "\u001b[0;32m~/learning_machines/learning_machines_robobo/src/robobo/simulation.py\u001b[0m in \u001b[0;36m_vrep_get_ping_time\u001b[0;34m(self)\u001b[0m\n\u001b[1;32m    111\u001b[0m \u001b[0;34m\u001b[0m\u001b[0m\n\u001b[1;32m    112\u001b[0m     \u001b[0;32mdef\u001b[0m \u001b[0m_vrep_get_ping_time\u001b[0m\u001b[0;34m(\u001b[0m\u001b[0mself\u001b[0m\u001b[0;34m)\u001b[0m\u001b[0;34m:\u001b[0m\u001b[0;34m\u001b[0m\u001b[0;34m\u001b[0m\u001b[0m\n\u001b[0;32m--> 113\u001b[0;31m         \u001b[0;32mreturn\u001b[0m \u001b[0mvrep\u001b[0m\u001b[0;34m.\u001b[0m\u001b[0munwrap_vrep\u001b[0m\u001b[0;34m(\u001b[0m\u001b[0mvrep\u001b[0m\u001b[0;34m.\u001b[0m\u001b[0msimxGetPingTime\u001b[0m\u001b[0;34m(\u001b[0m\u001b[0mself\u001b[0m\u001b[0;34m.\u001b[0m\u001b[0m_clientID\u001b[0m\u001b[0;34m)\u001b[0m\u001b[0;34m)\u001b[0m\u001b[0;34m\u001b[0m\u001b[0;34m\u001b[0m\u001b[0m\n\u001b[0m\u001b[1;32m    114\u001b[0m \u001b[0;34m\u001b[0m\u001b[0m\n\u001b[1;32m    115\u001b[0m     \u001b[0;32mdef\u001b[0m \u001b[0m_vrep_get_object_handle\u001b[0m\u001b[0;34m(\u001b[0m\u001b[0mself\u001b[0m\u001b[0;34m,\u001b[0m \u001b[0mname\u001b[0m\u001b[0;34m,\u001b[0m \u001b[0mopmode\u001b[0m\u001b[0;34m)\u001b[0m\u001b[0;34m:\u001b[0m\u001b[0;34m\u001b[0m\u001b[0;34m\u001b[0m\u001b[0m\n",
      "\u001b[0;32m~/learning_machines/learning_machines_robobo/src/vrep/__init__.py\u001b[0m in \u001b[0;36msimxGetPingTime\u001b[0;34m(clientID)\u001b[0m\n\u001b[1;32m   1156\u001b[0m     '''\n\u001b[1;32m   1157\u001b[0m     \u001b[0mpingTime\u001b[0m \u001b[0;34m=\u001b[0m \u001b[0mct\u001b[0m\u001b[0;34m.\u001b[0m\u001b[0mc_int\u001b[0m\u001b[0;34m(\u001b[0m\u001b[0;34m)\u001b[0m\u001b[0;34m\u001b[0m\u001b[0;34m\u001b[0m\u001b[0m\n\u001b[0;32m-> 1158\u001b[0;31m     \u001b[0;32mreturn\u001b[0m \u001b[0mc_GetPingTime\u001b[0m\u001b[0;34m(\u001b[0m\u001b[0mclientID\u001b[0m\u001b[0;34m,\u001b[0m \u001b[0mct\u001b[0m\u001b[0;34m.\u001b[0m\u001b[0mbyref\u001b[0m\u001b[0;34m(\u001b[0m\u001b[0mpingTime\u001b[0m\u001b[0;34m)\u001b[0m\u001b[0;34m)\u001b[0m\u001b[0;34m,\u001b[0m \u001b[0mpingTime\u001b[0m\u001b[0;34m.\u001b[0m\u001b[0mvalue\u001b[0m\u001b[0;34m\u001b[0m\u001b[0;34m\u001b[0m\u001b[0m\n\u001b[0m\u001b[1;32m   1159\u001b[0m \u001b[0;34m\u001b[0m\u001b[0m\n\u001b[1;32m   1160\u001b[0m \u001b[0;32mdef\u001b[0m \u001b[0msimxGetLastCmdTime\u001b[0m\u001b[0;34m(\u001b[0m\u001b[0mclientID\u001b[0m\u001b[0;34m)\u001b[0m\u001b[0;34m:\u001b[0m\u001b[0;34m\u001b[0m\u001b[0;34m\u001b[0m\u001b[0m\n",
      "\u001b[0;31mKeyboardInterrupt\u001b[0m: "
     ]
    }
   ],
   "source": [
    "#init variables\n",
    "state = env.reset()\n",
    "if state is None:\n",
    "    state = env.get_state()\n",
    "done = False\n",
    "score = 0\n",
    "I = 1\n",
    "pls, vls, rws = [], [], []\n",
    "#run episode, update online\n",
    "while 1+1 == 2:\n",
    "\n",
    "    #get action and log probability\n",
    "    action, lp = select_action(policy_network, state)\n",
    "\n",
    "    #step with action\n",
    "    new_state, reward, done = env.step(action)\n",
    "\n",
    "    #update episode score\n",
    "    score += reward\n",
    "\n",
    "    #get state value of current state\n",
    "    state_tensor = torch.from_numpy(state).float().unsqueeze(0).to(DEVICE)\n",
    "    state_val = stateval_network(state_tensor)\n",
    "\n",
    "    #get state value of next state\n",
    "    new_state_tensor = torch.from_numpy(new_state).float().unsqueeze(0).to(DEVICE)        \n",
    "    new_state_val = stateval_network(new_state_tensor)\n",
    "\n",
    "    #if terminal state, next state val is 0\n",
    "    if done:\n",
    "        new_state_val = torch.tensor([0]).float().unsqueeze(0).to(DEVICE)\n",
    "\n",
    "    #calculate value function loss with MSE\n",
    "    val_loss = F.mse_loss(reward + DISCOUNT_FACTOR * new_state_val, state_val)\n",
    "    val_loss *= I\n",
    "\n",
    "    #calculate policy loss\n",
    "    advantage = reward + DISCOUNT_FACTOR * new_state_val.item() - state_val.item()\n",
    "    policy_loss = -lp * advantage\n",
    "    policy_loss *= I\n",
    "\n",
    "    #Backpropagate policy\n",
    "    policy_optimizer.zero_grad()\n",
    "    policy_loss.backward(retain_graph=True)\n",
    "    policy_optimizer.step()\n",
    "\n",
    "    #Backpropagate value\n",
    "    stateval_optimizer.zero_grad()\n",
    "    val_loss.backward()\n",
    "    stateval_optimizer.step()\n",
    "\n",
    "    if done:\n",
    "        break\n",
    "\n",
    "    #move into new state, discount I\n",
    "    state = new_state\n",
    "    I *= DISCOUNT_FACTOR\n",
    "    print(state[0], \"--> \", action)\n",
    "    pls.append(policy_loss.item())\n",
    "    vls.append(val_loss.item())\n",
    "    rws.append(reward.item())"
   ]
  },
  {
   "cell_type": "code",
   "execution_count": 15,
   "id": "210f1a75-2570-444c-ab73-4f2bf1eb3f40",
   "metadata": {
    "tags": []
   },
   "outputs": [
    {
     "data": {
      "text/plain": [
       "array([<AxesSubplot:>, <AxesSubplot:>, <AxesSubplot:>], dtype=object)"
      ]
     },
     "execution_count": 15,
     "metadata": {},
     "output_type": "execute_result"
    },
    {
     "data": {
      "image/png": "[encoded data removed]",
      "text/plain": [
       "<Figure size 432x288 with 3 Axes>"
      ]
     },
     "metadata": {
      "needs_background": "light"
     },
     "output_type": "display_data"
    }
   ],
   "source": [
    "pd.DataFrame([pls, vls, rws]).T.rolling(10).mean().plot(subplots=True)"
   ]
  },
  {
   "cell_type": "code",
   "execution_count": 16,
   "id": "8f882f07-9032-46c9-9c85-d3dc576ef45e",
   "metadata": {},
   "outputs": [
    {
     "data": {
      "text/plain": [
       "tensor([[0., 0., 0., 0., 0., 0., 0., 0., 0., 0., 0., 0., 0., 0., 0., 0., 0., 0., 0., 0., 0., 0., 0., 0.,\n",
       "         0., 0., 0., 0., 0., 0., 0., 0.],\n",
       "        [0., 0., 0., 0., 0., 0., 0., 0., 0., 0., 0., 0., 0., 0., 0., 0., 0., 0., 0., 0., 0., 0., 0., 0.,\n",
       "         0., 0., 0., 0., 0., 0., 0., 0.],\n",
       "        [0., 0., 0., 0., 0., 0., 0., 0., 0., 0., 0., 0., 0., 0., 0., 0., 0., 0., 0., 0., 0., 0., 0., 0.,\n",
       "         0., 0., 0., 0., 0., 0., 0., 0.]])"
      ]
     },
     "execution_count": 16,
     "metadata": {},
     "output_type": "execute_result"
    }
   ],
   "source": [
    "policy_network.output_layer.weight.grad"
   ]
  },
  {
   "cell_type": "code",
   "execution_count": 28,
   "id": "52a00528-17e5-4b06-a9a5-cd483a977d04",
   "metadata": {},
   "outputs": [
    {
     "data": {
      "text/plain": [
       "tensor([[0., 0., 0., 0., 0., 0., 0., 0., 0., 0., 0., 0., 0., 0., 0., 0., 0., 0., 0., 0., 0., 0., 0., 0.,\n",
       "         0., 0., 0., 0., 0., 0., 0., 0.],\n",
       "        [0., 0., 0., 0., 0., 0., 0., 0., 0., 0., 0., 0., 0., 0., 0., 0., 0., 0., 0., 0., 0., 0., 0., 0.,\n",
       "         0., 0., 0., 0., 0., 0., 0., 0.],\n",
       "        [0., 0., 0., 0., 0., 0., 0., 0., 0., 0., 0., 0., 0., 0., 0., 0., 0., 0., 0., 0., 0., 0., 0., 0.,\n",
       "         0., 0., 0., 0., 0., 0., 0., 0.]])"
      ]
     },
     "execution_count": 28,
     "metadata": {},
     "output_type": "execute_result"
    }
   ],
   "source": [
    "policy_network.output_layer.weight.grad"
   ]
  },
  {
   "cell_type": "code",
   "execution_count": 8,
   "id": "a3b2a387-96ef-4cc6-8a9f-6e9e7dd7cd82",
   "metadata": {
    "collapsed": true,
    "jupyter": {
     "outputs_hidden": true
    },
    "tags": []
   },
   "outputs": [
    {
     "name": "stderr",
     "output_type": "stream",
     "text": [
      "  0%|                                                   | 0/500 [00:00<?, ?it/s]"
     ]
    },
    {
     "name": "stdout",
     "output_type": "stream",
     "text": [
      "Fail - Attempt 0\n",
      "Connected to remote API server: client id 0\n"
     ]
    },
    {
     "name": "stderr",
     "output_type": "stream",
     "text": [
      "/tmp/ipykernel_403537/594170451.py:43: UserWarning: Using a target size (torch.Size([1, 1, 1])) that is different to the input size (torch.Size([1, 1])). This will likely lead to incorrect results due to broadcasting. Please ensure they have the same size.\n",
      "  val_loss = F.mse_loss(reward + DISCOUNT_FACTOR * new_state_val, state_val)\n",
      "  0%|                                         | 1/500 [01:09<9:40:39, 69.82s/it]"
     ]
    },
    {
     "name": "stdout",
     "output_type": "stream",
     "text": [
      "Fail - Attempt 1\n",
      "Connected to remote API server: client id 0\n"
     ]
    },
    {
     "name": "stderr",
     "output_type": "stream",
     "text": [
      "  0%|▏                                        | 2/500 [02:21<9:50:09, 71.10s/it]"
     ]
    },
    {
     "name": "stdout",
     "output_type": "stream",
     "text": [
      "Fail - Attempt 2\n",
      "Connected to remote API server: client id 0\n"
     ]
    },
    {
     "name": "stderr",
     "output_type": "stream",
     "text": [
      "  0%|▏                                       | 2/500 [02:56<12:10:51, 88.06s/it]\n"
     ]
    },
    {
     "ename": "KeyboardInterrupt",
     "evalue": "",
     "output_type": "error",
     "traceback": [
      "\u001b[0;31m---------------------------------------------------------------------------\u001b[0m",
      "\u001b[0;31mKeyboardInterrupt\u001b[0m                         Traceback (most recent call last)",
      "\u001b[0;32m/tmp/ipykernel_403537/594170451.py\u001b[0m in \u001b[0;36m<module>\u001b[0;34m\u001b[0m\n\u001b[1;32m     23\u001b[0m \u001b[0;34m\u001b[0m\u001b[0m\n\u001b[1;32m     24\u001b[0m         \u001b[0;31m#step with action\u001b[0m\u001b[0;34m\u001b[0m\u001b[0;34m\u001b[0m\u001b[0;34m\u001b[0m\u001b[0m\n\u001b[0;32m---> 25\u001b[0;31m         \u001b[0mnew_state\u001b[0m\u001b[0;34m,\u001b[0m \u001b[0mreward\u001b[0m\u001b[0;34m,\u001b[0m \u001b[0mdone\u001b[0m \u001b[0;34m=\u001b[0m \u001b[0menv\u001b[0m\u001b[0;34m.\u001b[0m\u001b[0mstep\u001b[0m\u001b[0;34m(\u001b[0m\u001b[0maction\u001b[0m\u001b[0;34m)\u001b[0m\u001b[0;34m\u001b[0m\u001b[0;34m\u001b[0m\u001b[0m\n\u001b[0m\u001b[1;32m     26\u001b[0m \u001b[0;34m\u001b[0m\u001b[0m\n\u001b[1;32m     27\u001b[0m         \u001b[0;31m#update episode score\u001b[0m\u001b[0;34m\u001b[0m\u001b[0;34m\u001b[0m\u001b[0;34m\u001b[0m\u001b[0m\n",
      "\u001b[0;32m/tmp/ipykernel_403537/3442121836.py\u001b[0m in \u001b[0;36mstep\u001b[0;34m(self, action, discrete)\u001b[0m\n\u001b[1;32m     42\u001b[0m         \u001b[0;32melse\u001b[0m\u001b[0;34m:\u001b[0m\u001b[0;34m\u001b[0m\u001b[0;34m\u001b[0m\u001b[0m\n\u001b[1;32m     43\u001b[0m             \u001b[0maction\u001b[0m \u001b[0;34m=\u001b[0m \u001b[0;34m{\u001b[0m\u001b[0;36m0\u001b[0m\u001b[0;34m:\u001b[0m\u001b[0;34m(\u001b[0m\u001b[0;36m20\u001b[0m\u001b[0;34m,\u001b[0m\u001b[0;36m20\u001b[0m\u001b[0;34m)\u001b[0m \u001b[0;34m,\u001b[0m \u001b[0;36m1\u001b[0m\u001b[0;34m:\u001b[0m\u001b[0;34m(\u001b[0m\u001b[0;34m-\u001b[0m\u001b[0;36m20\u001b[0m\u001b[0;34m,\u001b[0m\u001b[0;34m-\u001b[0m\u001b[0;36m20\u001b[0m\u001b[0;34m)\u001b[0m\u001b[0;34m,\u001b[0m \u001b[0;36m2\u001b[0m\u001b[0;34m:\u001b[0m\u001b[0;34m(\u001b[0m\u001b[0;36m0\u001b[0m\u001b[0;34m,\u001b[0m\u001b[0;36m0\u001b[0m\u001b[0;34m)\u001b[0m\u001b[0;34m}\u001b[0m\u001b[0;34m[\u001b[0m\u001b[0maction\u001b[0m\u001b[0;34m.\u001b[0m\u001b[0mitem\u001b[0m\u001b[0;34m(\u001b[0m\u001b[0;34m)\u001b[0m\u001b[0;34m]\u001b[0m\u001b[0;34m\u001b[0m\u001b[0;34m\u001b[0m\u001b[0m\n\u001b[0;32m---> 44\u001b[0;31m         \u001b[0mself\u001b[0m\u001b[0;34m.\u001b[0m\u001b[0mmove\u001b[0m\u001b[0;34m(\u001b[0m\u001b[0maction\u001b[0m\u001b[0;34m[\u001b[0m\u001b[0;36m0\u001b[0m\u001b[0;34m]\u001b[0m\u001b[0;34m,\u001b[0m \u001b[0maction\u001b[0m\u001b[0;34m[\u001b[0m\u001b[0;36m1\u001b[0m\u001b[0;34m]\u001b[0m\u001b[0;34m,\u001b[0m \u001b[0mself\u001b[0m\u001b[0;34m.\u001b[0m\u001b[0mact_granularity\u001b[0m\u001b[0;34m)\u001b[0m\u001b[0;34m\u001b[0m\u001b[0;34m\u001b[0m\u001b[0m\n\u001b[0m\u001b[1;32m     45\u001b[0m         \u001b[0mnew_state\u001b[0m \u001b[0;34m=\u001b[0m \u001b[0mself\u001b[0m\u001b[0;34m.\u001b[0m\u001b[0mget_state\u001b[0m\u001b[0;34m(\u001b[0m\u001b[0;34m)\u001b[0m\u001b[0;34m\u001b[0m\u001b[0;34m\u001b[0m\u001b[0m\n\u001b[1;32m     46\u001b[0m         \u001b[0mreward\u001b[0m \u001b[0;34m=\u001b[0m \u001b[0;34m(\u001b[0m\u001b[0;36m1\u001b[0m \u001b[0;34m-\u001b[0m \u001b[0mnew_state\u001b[0m\u001b[0;34m)\u001b[0m\u001b[0;34m.\u001b[0m\u001b[0msum\u001b[0m\u001b[0;34m(\u001b[0m\u001b[0;34m)\u001b[0m \u001b[0;31m#* -1.\u001b[0m\u001b[0;34m\u001b[0m\u001b[0;34m\u001b[0m\u001b[0m\n",
      "\u001b[0;32m~/learning_machines/learning_machines_robobo/src/robobo/simulation.py\u001b[0m in \u001b[0;36mmove\u001b[0;34m(self, left, right, millis)\u001b[0m\n\u001b[1;32m    168\u001b[0m         \u001b[0;31m# busy waiting\u001b[0m\u001b[0;34m\u001b[0m\u001b[0;34m\u001b[0m\u001b[0;34m\u001b[0m\u001b[0m\n\u001b[1;32m    169\u001b[0m         \u001b[0mstart_time\u001b[0m \u001b[0;34m=\u001b[0m \u001b[0mself\u001b[0m\u001b[0;34m.\u001b[0m\u001b[0mget_sim_time\u001b[0m\u001b[0;34m(\u001b[0m\u001b[0;34m)\u001b[0m\u001b[0;34m\u001b[0m\u001b[0;34m\u001b[0m\u001b[0m\n\u001b[0;32m--> 170\u001b[0;31m         \u001b[0;32mwhile\u001b[0m \u001b[0mself\u001b[0m\u001b[0;34m.\u001b[0m\u001b[0mget_sim_time\u001b[0m\u001b[0;34m(\u001b[0m\u001b[0;34m)\u001b[0m \u001b[0;34m-\u001b[0m \u001b[0mstart_time\u001b[0m \u001b[0;34m<\u001b[0m \u001b[0mduration\u001b[0m\u001b[0;34m:\u001b[0m\u001b[0;34m\u001b[0m\u001b[0;34m\u001b[0m\u001b[0m\n\u001b[0m\u001b[1;32m    171\u001b[0m             \u001b[0;32mpass\u001b[0m\u001b[0;34m\u001b[0m\u001b[0;34m\u001b[0m\u001b[0m\n\u001b[1;32m    172\u001b[0m \u001b[0;34m\u001b[0m\u001b[0m\n",
      "\u001b[0;32m~/learning_machines/learning_machines_robobo/src/robobo/simulation.py\u001b[0m in \u001b[0;36mget_sim_time\u001b[0;34m(self)\u001b[0m\n\u001b[1;32m    327\u001b[0m         \u001b[0;34m:\u001b[0m\u001b[0;32mreturn\u001b[0m\u001b[0;34m:\u001b[0m \u001b[0msimulation\u001b[0m \u001b[0mtime\u001b[0m \u001b[0;32min\u001b[0m \u001b[0mmilliseconds\u001b[0m\u001b[0;34m.\u001b[0m\u001b[0;34m\u001b[0m\u001b[0;34m\u001b[0m\u001b[0m\n\u001b[1;32m    328\u001b[0m         \"\"\"\n\u001b[0;32m--> 329\u001b[0;31m         \u001b[0mself\u001b[0m\u001b[0;34m.\u001b[0m\u001b[0mwait_for_ping\u001b[0m\u001b[0;34m(\u001b[0m\u001b[0;34m)\u001b[0m\u001b[0;34m\u001b[0m\u001b[0;34m\u001b[0m\u001b[0m\n\u001b[0m\u001b[1;32m    330\u001b[0m         \u001b[0;32mreturn\u001b[0m \u001b[0mvrep\u001b[0m\u001b[0;34m.\u001b[0m\u001b[0msimxGetLastCmdTime\u001b[0m\u001b[0;34m(\u001b[0m\u001b[0mself\u001b[0m\u001b[0;34m.\u001b[0m\u001b[0m_clientID\u001b[0m\u001b[0;34m)\u001b[0m\u001b[0;34m\u001b[0m\u001b[0;34m\u001b[0m\u001b[0m\n\u001b[1;32m    331\u001b[0m \u001b[0;34m\u001b[0m\u001b[0m\n",
      "\u001b[0;32m~/learning_machines/learning_machines_robobo/src/robobo/simulation.py\u001b[0m in \u001b[0;36mwait_for_ping\u001b[0;34m(self, timeout_seconds)\u001b[0m\n\u001b[1;32m    100\u001b[0m         \u001b[0;32mwhile\u001b[0m \u001b[0mtime\u001b[0m\u001b[0;34m.\u001b[0m\u001b[0mtime\u001b[0m\u001b[0;34m(\u001b[0m\u001b[0;34m)\u001b[0m \u001b[0;34m-\u001b[0m \u001b[0mstartTime\u001b[0m \u001b[0;34m<\u001b[0m \u001b[0mtimeout_seconds\u001b[0m\u001b[0;34m:\u001b[0m\u001b[0;34m\u001b[0m\u001b[0;34m\u001b[0m\u001b[0m\n\u001b[1;32m    101\u001b[0m             \u001b[0;32mtry\u001b[0m\u001b[0;34m:\u001b[0m\u001b[0;34m\u001b[0m\u001b[0;34m\u001b[0m\u001b[0m\n\u001b[0;32m--> 102\u001b[0;31m                 \u001b[0mself\u001b[0m\u001b[0;34m.\u001b[0m\u001b[0m_vrep_get_ping_time\u001b[0m\u001b[0;34m(\u001b[0m\u001b[0;34m)\u001b[0m\u001b[0;34m\u001b[0m\u001b[0;34m\u001b[0m\u001b[0m\n\u001b[0m\u001b[1;32m    103\u001b[0m                 \u001b[0;31m# print(\"check success\")\u001b[0m\u001b[0;34m\u001b[0m\u001b[0;34m\u001b[0m\u001b[0;34m\u001b[0m\u001b[0m\n\u001b[1;32m    104\u001b[0m                 \u001b[0;32mreturn\u001b[0m \u001b[0;32mTrue\u001b[0m\u001b[0;34m\u001b[0m\u001b[0;34m\u001b[0m\u001b[0m\n",
      "\u001b[0;32m~/learning_machines/learning_machines_robobo/src/robobo/simulation.py\u001b[0m in \u001b[0;36m_vrep_get_ping_time\u001b[0;34m(self)\u001b[0m\n\u001b[1;32m    111\u001b[0m \u001b[0;34m\u001b[0m\u001b[0m\n\u001b[1;32m    112\u001b[0m     \u001b[0;32mdef\u001b[0m \u001b[0m_vrep_get_ping_time\u001b[0m\u001b[0;34m(\u001b[0m\u001b[0mself\u001b[0m\u001b[0;34m)\u001b[0m\u001b[0;34m:\u001b[0m\u001b[0;34m\u001b[0m\u001b[0;34m\u001b[0m\u001b[0m\n\u001b[0;32m--> 113\u001b[0;31m         \u001b[0;32mreturn\u001b[0m \u001b[0mvrep\u001b[0m\u001b[0;34m.\u001b[0m\u001b[0munwrap_vrep\u001b[0m\u001b[0;34m(\u001b[0m\u001b[0mvrep\u001b[0m\u001b[0;34m.\u001b[0m\u001b[0msimxGetPingTime\u001b[0m\u001b[0;34m(\u001b[0m\u001b[0mself\u001b[0m\u001b[0;34m.\u001b[0m\u001b[0m_clientID\u001b[0m\u001b[0;34m)\u001b[0m\u001b[0;34m)\u001b[0m\u001b[0;34m\u001b[0m\u001b[0;34m\u001b[0m\u001b[0m\n\u001b[0m\u001b[1;32m    114\u001b[0m \u001b[0;34m\u001b[0m\u001b[0m\n\u001b[1;32m    115\u001b[0m     \u001b[0;32mdef\u001b[0m \u001b[0m_vrep_get_object_handle\u001b[0m\u001b[0;34m(\u001b[0m\u001b[0mself\u001b[0m\u001b[0;34m,\u001b[0m \u001b[0mname\u001b[0m\u001b[0;34m,\u001b[0m \u001b[0mopmode\u001b[0m\u001b[0;34m)\u001b[0m\u001b[0;34m:\u001b[0m\u001b[0;34m\u001b[0m\u001b[0;34m\u001b[0m\u001b[0m\n",
      "\u001b[0;32m~/learning_machines/learning_machines_robobo/src/vrep/__init__.py\u001b[0m in \u001b[0;36msimxGetPingTime\u001b[0;34m(clientID)\u001b[0m\n\u001b[1;32m   1156\u001b[0m     '''\n\u001b[1;32m   1157\u001b[0m     \u001b[0mpingTime\u001b[0m \u001b[0;34m=\u001b[0m \u001b[0mct\u001b[0m\u001b[0;34m.\u001b[0m\u001b[0mc_int\u001b[0m\u001b[0;34m(\u001b[0m\u001b[0;34m)\u001b[0m\u001b[0;34m\u001b[0m\u001b[0;34m\u001b[0m\u001b[0m\n\u001b[0;32m-> 1158\u001b[0;31m     \u001b[0;32mreturn\u001b[0m \u001b[0mc_GetPingTime\u001b[0m\u001b[0;34m(\u001b[0m\u001b[0mclientID\u001b[0m\u001b[0;34m,\u001b[0m \u001b[0mct\u001b[0m\u001b[0;34m.\u001b[0m\u001b[0mbyref\u001b[0m\u001b[0;34m(\u001b[0m\u001b[0mpingTime\u001b[0m\u001b[0;34m)\u001b[0m\u001b[0;34m)\u001b[0m\u001b[0;34m,\u001b[0m \u001b[0mpingTime\u001b[0m\u001b[0;34m.\u001b[0m\u001b[0mvalue\u001b[0m\u001b[0;34m\u001b[0m\u001b[0;34m\u001b[0m\u001b[0m\n\u001b[0m\u001b[1;32m   1159\u001b[0m \u001b[0;34m\u001b[0m\u001b[0m\n\u001b[1;32m   1160\u001b[0m \u001b[0;32mdef\u001b[0m \u001b[0msimxGetLastCmdTime\u001b[0m\u001b[0;34m(\u001b[0m\u001b[0mclientID\u001b[0m\u001b[0;34m)\u001b[0m\u001b[0;34m:\u001b[0m\u001b[0;34m\u001b[0m\u001b[0;34m\u001b[0m\u001b[0m\n",
      "\u001b[0;31mKeyboardInterrupt\u001b[0m: "
     ]
    }
   ],
   "source": [
    "#track scores\n",
    "scores = []\n",
    "\n",
    "#track recent scores\n",
    "recent_scores = deque(maxlen = 10_000)\n",
    "\n",
    "#run episodes\n",
    "for episode in tqdm(range(NUM_EPISODES)):\n",
    "    \n",
    "    #init variables\n",
    "    state = env.reset()\n",
    "    if state is None:\n",
    "        state = env.get_state()\n",
    "    done = False\n",
    "    score = 0\n",
    "    I = 1\n",
    "    \n",
    "    #run episode, update online\n",
    "    while 1+1 == 2:\n",
    "        \n",
    "        #get action and log probability\n",
    "        action, lp = select_action(policy_network, state)\n",
    "        \n",
    "        #step with action\n",
    "        new_state, reward, done = env.step(action)\n",
    "        \n",
    "        #update episode score\n",
    "        score += reward\n",
    "        \n",
    "        #get state value of current state\n",
    "        state_tensor = torch.from_numpy(state).float().unsqueeze(0).to(DEVICE)\n",
    "        state_val = stateval_network(state_tensor)\n",
    "        \n",
    "        #get state value of next state\n",
    "        new_state_tensor = torch.from_numpy(new_state).float().unsqueeze(0).to(DEVICE)        \n",
    "        new_state_val = stateval_network(new_state_tensor)\n",
    "        \n",
    "        #if terminal state, next state val is 0\n",
    "        if done:\n",
    "            new_state_val = torch.tensor([0]).float().unsqueeze(0).to(DEVICE)\n",
    "        \n",
    "        #calculate value function loss with MSE\n",
    "        val_loss = F.mse_loss(reward + DISCOUNT_FACTOR * new_state_val, state_val)\n",
    "        val_loss *= I\n",
    "        \n",
    "        #calculate policy loss\n",
    "        advantage = reward + DISCOUNT_FACTOR * new_state_val.item() - state_val.item()\n",
    "        policy_loss = -lp * advantage\n",
    "        policy_loss *= I\n",
    "        \n",
    "        #Backpropagate policy\n",
    "        policy_optimizer.zero_grad()\n",
    "        policy_loss.backward(retain_graph=True)\n",
    "        policy_optimizer.step()\n",
    "        \n",
    "        #Backpropagate value\n",
    "        stateval_optimizer.zero_grad()\n",
    "        val_loss.backward()\n",
    "        stateval_optimizer.step()\n",
    "        \n",
    "        if done:\n",
    "            break\n",
    "            \n",
    "        #move into new state, discount I\n",
    "        state = new_state\n",
    "        I *= DISCOUNT_FACTOR\n",
    "    \n",
    "    #append episode score \n",
    "    scores.append(score)\n",
    "    recent_scores.append(score)"
   ]
  },
  {
   "cell_type": "code",
   "execution_count": 15,
   "id": "9de25c3c-d5c5-4fe4-b87e-f341b8a34db0",
   "metadata": {
    "jupyter": {
     "source_hidden": true
    },
    "tags": []
   },
   "outputs": [
    {
     "data": {
      "text/plain": [
       "<AxesSubplot:>"
      ]
     },
     "execution_count": 15,
     "metadata": {},
     "output_type": "execute_result"
    },
    {
     "data": {
      "image/png": "[encoded data removed]",
      "text/plain": [
       "<Figure size 432x288 with 1 Axes>"
      ]
     },
     "metadata": {
      "needs_background": "light"
     },
     "output_type": "display_data"
    }
   ],
   "source": [
    "pd.Series(scores).plot()"
   ]
  },
  {
   "cell_type": "code",
   "execution_count": null,
   "id": "b6e2af45-9a87-4a33-9e57-4ea64e3b50e0",
   "metadata": {},
   "outputs": [],
   "source": [
    "#init variables\n",
    "state = env.reset()\n",
    "if state is None:\n",
    "    state = env.get_state()\n",
    "done = False\n",
    "score = 0\n",
    "I = 1\n",
    "pls, vls, rws = [], [], []"
   ]
  },
  {
   "cell_type": "code",
   "execution_count": null,
   "id": "78402799-56c0-4d73-ab32-c1fd17c9b32f",
   "metadata": {},
   "outputs": [],
   "source": [
    "\n",
    "#run episode, update online\n",
    "#get action and log probability\n",
    "action, lp = select_action(policy_network, state)\n",
    "\n",
    "#step with action\n",
    "new_state, reward, done = env.step(action)\n",
    "\n",
    "#update episode score\n",
    "score += reward\n",
    "\n",
    "#get state value of current state\n",
    "state_tensor = torch.from_numpy(state).float().unsqueeze(0).to(DEVICE)\n",
    "state_val = stateval_network(state_tensor)\n",
    "\n",
    "#get state value of next state\n",
    "new_state_tensor = torch.from_numpy(new_state).float().unsqueeze(0).to(DEVICE)        \n",
    "new_state_val = stateval_network(new_state_tensor)\n",
    "\n",
    "#if terminal state, next state val is 0\n",
    "if done:\n",
    "    new_state_val = torch.tensor([0]).float().unsqueeze(0).to(DEVICE)\n",
    "\n",
    "#calculate value function loss with MSE\n",
    "val_loss = F.mse_loss(reward + DISCOUNT_FACTOR * new_state_val, state_val)\n",
    "val_loss *= I\n",
    "\n",
    "#calculate policy loss\n",
    "advantage = reward + DISCOUNT_FACTOR * new_state_val.item() - state_val.item()\n",
    "policy_loss = -lp * advantage\n",
    "policy_loss *= I\n",
    "\n",
    "#Backpropagate policy\n",
    "policy_optimizer.zero_grad()\n",
    "policy_loss.backward(retain_graph=True)\n",
    "policy_optimizer.step()\n",
    "\n",
    "#Backpropagate value\n",
    "stateval_optimizer.zero_grad()\n",
    "val_loss.backward()\n",
    "stateval_optimizer.step()\n",
    "\n",
    "if done:\n",
    "    break\n",
    "\n",
    "#move into new state, discount I\n",
    "state = new_state\n",
    "I *= DISCOUNT_FACTOR\n",
    "\n",
    "pls.append(policy_loss.item())\n",
    "vls.append(val_loss.item())\n",
    "rws.append(reward.item())"
   ]
  }
 ],
 "metadata": {
  "kernelspec": {
   "display_name": "Python 3.8 - learning_machines",
   "language": "python",
   "name": "learning_machines"
  },
  "language_info": {
   "codemirror_mode": {
    "name": "ipython",
    "version": 3
   },
   "file_extension": ".py",
   "mimetype": "text/x-python",
   "name": "python",
   "nbconvert_exporter": "python",
   "pygments_lexer": "ipython3",
   "version": "3.8.12"
  }
 },
 "nbformat": 4,
 "nbformat_minor": 5
}
