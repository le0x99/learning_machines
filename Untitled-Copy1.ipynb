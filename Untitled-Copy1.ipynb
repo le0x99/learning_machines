{
 "cells": [
  {
   "cell_type": "code",
   "execution_count": 1,
   "id": "0eceeac7-2ffb-4872-a2b5-098642aaca55",
   "metadata": {},
   "outputs": [
    {
     "name": "stderr",
     "output_type": "stream",
     "text": [
      "Hardware Connection not available in python3 :(\n"
     ]
    }
   ],
   "source": [
    "import robobo\n",
    "import pandas as pd\n",
    "import torch\n",
    "import time\n",
    "import torch.nn as nn\n",
    "import torch.nn.functional as F\n",
    "import torch.optim as optim\n",
    "from torch.distributions import Categorical, Normal\n",
    "from tqdm import tqdm\n",
    "import numpy as np\n",
    "from collections import deque"
   ]
  },
  {
   "cell_type": "code",
   "execution_count": 2,
   "id": "8ea1171b-7d30-47a4-898b-bf1617f6fce9",
   "metadata": {
    "tags": []
   },
   "outputs": [],
   "source": [
    "class Environment(robobo.SimulationRobobo):\n",
    "    def __init__(self,\n",
    "                 sim_time_s,\n",
    "                 act_granularity_s,\n",
    "                 ):\n",
    "        super().__init__()\n",
    "        super().connect('192.168.1.133', 19997)\n",
    "        self.attempts = 0\n",
    "        self.sim_time = sim_time_s * 1000.\n",
    "        self.initiated = False\n",
    "        self.fps = 1000 / act_granularity_s\n",
    "        self.act_granularity = act_granularity_s * 1000\n",
    "    def start_sim(self): return self.play_simulation()\n",
    "    def end_sim(self): return self.stop_world()\n",
    "    def pause_sim(self): return self.pause_simulation()\n",
    "    def reset(self):\n",
    "        try:\n",
    "            if self.is_simulation_running():\n",
    "                self.end_sim()\n",
    "                self.start_sim()\n",
    "            else:\n",
    "                self.start_sim()\n",
    "            time.sleep(3)\n",
    "            return self.get_state()\n",
    "        except:\n",
    "            print(f\"Fail - Attempt {self.attempts}\")\n",
    "            self.attempts += 1\n",
    "            self.disconnect()\n",
    "            self.connect('192.168.1.133', 19997)\n",
    "            self.reset()\n",
    "    def get_state(self, use_cam = False,\n",
    "                  normalize_ir = True,\n",
    "                 invert_ir = True):\n",
    "        # to do : edit parent + normalize\n",
    "        X1 = np.array([[ .2 if not _ else _ for _ in self.read_irs() ]])\n",
    "        X1 = (X1 - 0.) / (.2 - 0.) if normalize_ir else X1\n",
    "        X1 = 1 - X1 if invert_ir else X1\n",
    "        return X1\n",
    "    def step(self, action):\n",
    "        action = action[0][0] * 100\n",
    "        self.move(action[0], action[1], self.act_granularity)\n",
    "        new_state = self.get_state()\n",
    "        reward = (1 - new_state).sum() #* -1.\n",
    "        done = True if self.get_sim_time() > self.sim_time else False\n",
    "        return new_state, reward, done\n",
    "        "
   ]
  },
  {
   "cell_type": "code",
   "execution_count": 6,
   "id": "632706cc-217b-4b61-a379-d047bb0fc47a",
   "metadata": {},
   "outputs": [],
   "source": [
    "#discount factor for future utilities\n",
    "DISCOUNT_FACTOR = 1 # .99\n",
    "ACTION_SPACE = 2\n",
    "OBSERVATION_SPACE = 8\n",
    "#number of episodes to run\n",
    "NUM_EPISODES = 500\n",
    "# duration of actuators in s\n",
    "ACT_GRANULARITY = .5\n",
    "#max steps per episode\n",
    "MAX_STEPS = 1000\n",
    "#max sim time in s\n",
    "MAX_SIM_TIME = 60 \n",
    "# limit variance\n",
    "LOG_SIG_MAX = 2\n",
    "LOG_SIG_MIN = -20\n",
    "#device to run model on \n",
    "DEVICE = \"cpu\""
   ]
  },
  {
   "cell_type": "code",
   "execution_count": 7,
   "id": "3d17162d-a701-44e1-b8f2-4d66aee1c596",
   "metadata": {},
   "outputs": [],
   "source": [
    "#Using a neural network to learn our policy parameters\n",
    "class PolicyNetwork0(nn.Module):\n",
    "    \n",
    "    #Takes in observations and outputs actions\n",
    "    def __init__(self, observation_space, action_space):\n",
    "        super(PolicyNetwork, self).__init__()\n",
    "        self.input_layer = nn.Linear(observation_space, 32)\n",
    "        self.output_layer = nn.Linear(32, action_space)\n",
    "    \n",
    "    #forward pass\n",
    "    def forward(self, x):\n",
    "        #input states\n",
    "        x = self.input_layer(x)\n",
    "        #relu activation\n",
    "        x = F.relu(x)\n",
    "        #actions\n",
    "        actions = self.output_layer(x)\n",
    "        action_probs = F.tanh(actions)\n",
    "        return action_probs"
   ]
  },
  {
   "cell_type": "code",
   "execution_count": 8,
   "id": "7ca00cdc-ea45-4bc7-8219-9decec571ab6",
   "metadata": {},
   "outputs": [],
   "source": [
    "#Using a neural network to learn our policy parameters\n",
    "class PolicyNetwork1(nn.Module):\n",
    "    \n",
    "    #Takes in observations and outputs actions\n",
    "    def __init__(self, observation_space, action_space):\n",
    "        super(PolicyNetwork, self).__init__()\n",
    "        self.input_layer = nn.Linear(observation_space, 32)\n",
    "        self.mu = nn.Linear(32, action_space)\n",
    "        self.var = nn.Linear(32, action_space)\n",
    "    \n",
    "    #forward pass\n",
    "    def forward(self, x):\n",
    "        #input states\n",
    "        x = self.input_layer(x)\n",
    "        #relu activation\n",
    "        x = F.relu(x)\n",
    "        #actions\n",
    "        mu = self.mu(x)\n",
    "        mu = F.tanh(mu)\n",
    "        \n",
    "        var = self.var(x)\n",
    "        var = F.softplus(var)\n",
    "        \n",
    "        return mu, var"
   ]
  },
  {
   "cell_type": "code",
   "execution_count": 9,
   "id": "9840160c-7035-4059-bb5e-0f3766197895",
   "metadata": {},
   "outputs": [],
   "source": [
    "#Using a neural network to learn our policy parameters\n",
    "class PolicyNetwork(nn.Module):\n",
    "    \n",
    "    #Takes in observations and outputs actions\n",
    "    def __init__(self, observation_space, action_space):\n",
    "        super(PolicyNetwork, self).__init__()\n",
    "        self.input_layer = nn.Linear(observation_space, 32)\n",
    "        self.mu = nn.Linear(32, action_space)\n",
    "        self.log_std = nn.Linear(32, action_space)\n",
    "    \n",
    "    #forward pass\n",
    "    def forward(self, x):\n",
    "        #input states\n",
    "        x = self.input_layer(x)\n",
    "        #relu activation\n",
    "        x = F.relu(x)\n",
    "        #actions\n",
    "        mu = self.mu(x)\n",
    "        log_std = self.log_std(x)\n",
    "        log_std = torch.clamp(log_std, min=LOG_SIG_MIN, max=LOG_SIG_MAX)\n",
    "        std = log_std.exp()\n",
    "        \n",
    "        return mu, std"
   ]
  },
  {
   "cell_type": "code",
   "execution_count": 10,
   "id": "1c9f1b24-c66e-4898-8f90-1706c5835797",
   "metadata": {},
   "outputs": [],
   "source": [
    "#Using a neural network to learn state value\n",
    "class StateValueNetwork(nn.Module):\n",
    "    \n",
    "    #Takes in state\n",
    "    def __init__(self, observation_space):\n",
    "        super(StateValueNetwork, self).__init__()\n",
    "        \n",
    "        self.input_layer = nn.Linear(observation_space, 32)\n",
    "        self.output_layer = nn.Linear(32, 1)\n",
    "        \n",
    "    def forward(self, x):\n",
    "        #input layer\n",
    "        x = self.input_layer(x)\n",
    "        \n",
    "        #activiation relu\n",
    "        x = F.relu(x)\n",
    "        \n",
    "        #get state value\n",
    "        state_value = self.output_layer(x)\n",
    "        \n",
    "        return state_value"
   ]
  },
  {
   "cell_type": "code",
   "execution_count": 11,
   "id": "3d097589-6a3c-495e-b98b-727f64f24c96",
   "metadata": {},
   "outputs": [],
   "source": [
    "def select_action0(network, state):\n",
    "    ''' Selects an action given current state\n",
    "    Args:\n",
    "    - network (Torch NN): network to process state\n",
    "    - state (Array): Array of action space in an environment\n",
    "    \n",
    "    Return:\n",
    "    - (int): action that is selected\n",
    "    - (float): log probability of selecting that action given state and network\n",
    "    '''\n",
    "    \n",
    "    #convert state to float tensor, add 1 dimension, allocate tensor on device\n",
    "    state = torch.from_numpy(state).float().unsqueeze(0).to(DEVICE)\n",
    "    \n",
    "    #use network to predict action probabilities\n",
    "    action_probs = network(state)\n",
    "    state = state.detach()\n",
    "    \n",
    "    #sample an action using the probability distribution\n",
    "    #m = Categorical(action_probs)\n",
    "    #action = m.sample()\n",
    "    m = Normal(action_probs, .5)\n",
    "    action = m.sample()\n",
    "    \n",
    "    #return action\n",
    "    return action, m.log_prob(action)\n",
    "\n"
   ]
  },
  {
   "cell_type": "code",
   "execution_count": 12,
   "id": "a86a983b-0bea-4bfe-979d-cfec74f49cda",
   "metadata": {},
   "outputs": [],
   "source": [
    "def select_action(network, state):\n",
    "    ''' Selects an action given current state\n",
    "    Args:\n",
    "    - network (Torch NN): network to process state\n",
    "    - state (Array): Array of action space in an environment\n",
    "    \n",
    "    Return:'\n",
    "    - (int): action that is selected\n",
    "    - (float): log probability of selecting that action given state and network\n",
    "    '''\n",
    "    \n",
    "    #convert state to float tensor, add 1 dimension, allocate tensor on device\n",
    "    state = torch.from_numpy(state).float().unsqueeze(0).to(DEVICE)\n",
    "    \n",
    "    #use network to predict action probabilities\n",
    "    mu, sigma = network(state)\n",
    "    state = state.detach()\n",
    "    \n",
    "    #sample an action using the probability distribution\n",
    "    m = Normal(mu, sigma)\n",
    "    action = m.sample()\n",
    "    \n",
    "    #return action\n",
    "    return action, m.log_prob(action)"
   ]
  },
  {
   "cell_type": "code",
   "execution_count": 13,
   "id": "c99e6250-3cc0-4f32-88bf-55c23777fac8",
   "metadata": {},
   "outputs": [
    {
     "name": "stdout",
     "output_type": "stream",
     "text": [
      "Connected to remote API server: client id 0\n"
     ]
    }
   ],
   "source": [
    "# Init environment\n",
    "env = Environment(MAX_SIM_TIME, ACT_GRANULARITY)\n",
    "#Init network\n",
    "policy_network = PolicyNetwork(OBSERVATION_SPACE, ACTION_SPACE).to(DEVICE)\n",
    "stateval_network = StateValueNetwork(OBSERVATION_SPACE).to(DEVICE)\n",
    "\n",
    "#Init optimizer\n",
    "policy_optimizer = optim.Adam(policy_network.parameters(), lr=0.0001)\n",
    "stateval_optimizer = optim.Adam(stateval_network.parameters(), lr=0.0001)"
   ]
  },
  {
   "cell_type": "code",
   "execution_count": 17,
   "id": "f76ed67c-8cd5-4037-9dfc-4880fd8d9873",
   "metadata": {},
   "outputs": [
    {
     "data": {
      "text/plain": [
       "array([<AxesSubplot:>, <AxesSubplot:>, <AxesSubplot:>], dtype=object)"
      ]
     },
     "execution_count": 17,
     "metadata": {},
     "output_type": "execute_result"
    },
    {
     "data": {
      "image/png": "[encoded data removed]",
      "text/plain": [
       "<Figure size 432x288 with 3 Axes>"
      ]
     },
     "metadata": {
      "needs_background": "light"
     },
     "output_type": "display_data"
    }
   ],
   "source": [
    "pd.DataFrame([pls, vls, rws]).T.rolling(10).mean().plot(subplots=True)"
   ]
  },
  {
   "cell_type": "code",
   "execution_count": null,
   "id": "169efb0d-df91-4738-9fd4-6909f489c9b8",
   "metadata": {},
   "outputs": [],
   "source": [
    "# Init environment\n",
    "env = Environment(MAX_SIM_TIME, ACT_GRANULARITY)\n",
    "#Init network\n",
    "policy_network = PolicyNetwork(OBSERVATION_SPACE, ACTION_SPACE).to(DEVICE)\n",
    "stateval_network = StateValueNetwork(OBSERVATION_SPACE).to(DEVICE)\n",
    "\n",
    "#Init optimizer\n",
    "policy_optimizer = optim.Adam(policy_network.parameters(), lr=0.001)\n",
    "stateval_optimizer = optim.Adam(stateval_network.parameters(), lr=0.001)"
   ]
  },
  {
   "cell_type": "code",
   "execution_count": 11,
   "id": "a3b2a387-96ef-4cc6-8a9f-6e9e7dd7cd82",
   "metadata": {
    "tags": []
   },
   "outputs": [
    {
     "name": "stderr",
     "output_type": "stream",
     "text": [
      "  0%|                                                    | 0/20 [00:00<?, ?it/s]"
     ]
    },
    {
     "name": "stdout",
     "output_type": "stream",
     "text": [
      "Fail - Attempt 0\n",
      "Connected to remote API server: client id 0\n"
     ]
    },
    {
     "name": "stderr",
     "output_type": "stream",
     "text": [
      "/tmp/ipykernel_239751/3574719895.py:43: UserWarning: Using a target size (torch.Size([1, 1, 1])) that is different to the input size (torch.Size([1, 1])). This will likely lead to incorrect results due to broadcasting. Please ensure they have the same size.\n",
      "  val_loss = F.mse_loss(reward + DISCOUNT_FACTOR * new_state_val, state_val)\n",
      "100%|███████████████████████████████████████████| 20/20 [07:09<00:00, 21.50s/it]\n"
     ]
    }
   ],
   "source": [
    "#track scores\n",
    "scores = []\n",
    "\n",
    "#track recent scores\n",
    "recent_scores = deque(maxlen = 10_000)\n",
    "\n",
    "#run episodes\n",
    "for episode in tqdm(range(NUM_EPISODES)):\n",
    "    \n",
    "    #init variables\n",
    "    state = env.reset()\n",
    "    if state is None:\n",
    "        state = env.get_state()\n",
    "    done = False\n",
    "    score = 0\n",
    "    I = 1\n",
    "    \n",
    "    #run episode, update online\n",
    "    while 1+1 == 2:\n",
    "        \n",
    "        #get action and log probability\n",
    "        action, lp = select_action(policy_network, state)\n",
    "        \n",
    "        #step with action\n",
    "        new_state, reward, done = env.step(action)\n",
    "        \n",
    "        #update episode score\n",
    "        score += reward\n",
    "        \n",
    "        #get state value of current state\n",
    "        state_tensor = torch.from_numpy(state).float().unsqueeze(0).to(DEVICE)\n",
    "        state_val = stateval_network(state_tensor)\n",
    "        \n",
    "        #get state value of next state\n",
    "        new_state_tensor = torch.from_numpy(new_state).float().unsqueeze(0).to(DEVICE)        \n",
    "        new_state_val = stateval_network(new_state_tensor)\n",
    "        \n",
    "        #if terminal state, next state val is 0\n",
    "        if done:\n",
    "            new_state_val = torch.tensor([0]).float().unsqueeze(0).to(DEVICE)\n",
    "        \n",
    "        #calculate value function loss with MSE\n",
    "        val_loss = F.mse_loss(reward + DISCOUNT_FACTOR * new_state_val, state_val)\n",
    "        val_loss *= I\n",
    "        \n",
    "        #calculate policy loss\n",
    "        advantage = reward + DISCOUNT_FACTOR * new_state_val.item() - state_val.item()\n",
    "        policy_loss = -lp.mean() * advantage\n",
    "        policy_loss *= I\n",
    "        \n",
    "        #Backpropagate policy\n",
    "        policy_optimizer.zero_grad()\n",
    "        policy_loss.backward(retain_graph=True)\n",
    "        policy_optimizer.step()\n",
    "        \n",
    "        #Backpropagate value\n",
    "        stateval_optimizer.zero_grad()\n",
    "        val_loss.backward()\n",
    "        stateval_optimizer.step()\n",
    "        \n",
    "        if done:\n",
    "            break\n",
    "            \n",
    "        #move into new state, discount I\n",
    "        state = new_state\n",
    "        I *= DISCOUNT_FACTOR\n",
    "    \n",
    "    #append episode score \n",
    "    scores.append(score)\n",
    "    recent_scores.append(score)"
   ]
  },
  {
   "cell_type": "code",
   "execution_count": 13,
   "id": "5081ef48-d4b0-472d-b6d5-958558a627eb",
   "metadata": {},
   "outputs": [
    {
     "data": {
      "text/plain": [
       "tensor([[ 0.2219,  0.1852,  0.0000,  0.0000,  0.0000,  0.5740,  0.6414,  0.0000,\n",
       "          0.1685,  0.0000,  0.0000,  0.4417,  0.0000,  1.0218,  0.3320,  0.3632,\n",
       "          0.4552,  0.0000,  0.3399,  0.0000,  0.0000,  0.0000,  0.0000,  0.8080,\n",
       "          0.0000,  0.9245,  0.0000,  0.4224,  0.0000,  0.0000,  0.5988,  0.1994],\n",
       "        [-0.1887, -0.1574,  0.0000,  0.0000,  0.0000, -0.4880, -0.5453,  0.0000,\n",
       "         -0.1433,  0.0000,  0.0000, -0.3756,  0.0000, -0.8687, -0.2823, -0.3088,\n",
       "         -0.3870,  0.0000, -0.2890,  0.0000,  0.0000,  0.0000,  0.0000, -0.6869,\n",
       "          0.0000, -0.7860,  0.0000, -0.3591,  0.0000,  0.0000, -0.5091, -0.1696]])"
      ]
     },
     "execution_count": 13,
     "metadata": {},
     "output_type": "execute_result"
    }
   ],
   "source": [
    "policy_network.log_std.weight.grad"
   ]
  },
  {
   "cell_type": "code",
   "execution_count": 17,
   "id": "9de25c3c-d5c5-4fe4-b87e-f341b8a34db0",
   "metadata": {},
   "outputs": [
    {
     "data": {
      "text/plain": [
       "<AxesSubplot:>"
      ]
     },
     "execution_count": 17,
     "metadata": {},
     "output_type": "execute_result"
    },
    {
     "data": {
      "image/png": "[encoded data removed]",
      "text/plain": [
       "<Figure size 432x288 with 1 Axes>"
      ]
     },
     "metadata": {
      "needs_background": "light"
     },
     "output_type": "display_data"
    }
   ],
   "source": [
    "pd.Series(scores).plot()"
   ]
  },
  {
   "cell_type": "code",
   "execution_count": null,
   "id": "f195caff-3aaf-4be1-bb73-1df550f9bf92",
   "metadata": {},
   "outputs": [],
   "source": [
    "import matplotlib.pyplot as plt\n",
    "from sklearn.linear_model import LinearRegression\n",
    "import seaborn as sns\n",
    "import numpy as np\n",
    "\n",
    "sns.set()\n",
    "\n",
    "plt.plot(scores)\n",
    "plt.ylabel('score')\n",
    "plt.xlabel('episodes')\n",
    "plt.title('Training score of CartPole Actor-Critic TD(0)')\n",
    "\n",
    "reg = LinearRegression().fit(np.arange(len(scores)).reshape(-1, 1), np.array(scores).reshape(-1, 1))\n",
    "y_pred = reg.predict(np.arange(len(scores)).reshape(-1, 1))\n",
    "plt.plot(y_pred)\n",
    "plt.show()"
   ]
  }
 ],
 "metadata": {
  "kernelspec": {
   "display_name": "Python 3.8 - learning_machines",
   "language": "python",
   "name": "learning_machines"
  },
  "language_info": {
   "codemirror_mode": {
    "name": "ipython",
    "version": 3
   },
   "file_extension": ".py",
   "mimetype": "text/x-python",
   "name": "python",
   "nbconvert_exporter": "python",
   "pygments_lexer": "ipython3",
   "version": "3.8.12"
  }
 },
 "nbformat": 4,
 "nbformat_minor": 5
}
