{
 "cells": [
  {
   "cell_type": "code",
   "execution_count": 1,
   "id": "60c44af5-45e4-40cd-9533-8e7a3d8a77da",
   "metadata": {},
   "outputs": [
    {
     "name": "stderr",
     "output_type": "stream",
     "text": [
      "Hardware Connection not available in python3 :(\n"
     ]
    }
   ],
   "source": [
    "import robobo\n",
    "import pandas as pd\n",
    "import torch\n",
    "from random import choice as random_select\n",
    "import time\n",
    "import pickle\n",
    "import torch.nn as nn\n",
    "import torch.nn.functional as F\n",
    "import torch.optim as optim\n",
    "from torch.distributions import Categorical, Normal\n",
    "from tqdm import tqdm\n",
    "import numpy as np\n",
    "from collections import deque"
   ]
  },
  {
   "cell_type": "code",
   "execution_count": 3,
   "id": "b350f881-cbb7-4fd3-b49e-b226837d3e94",
   "metadata": {
    "tags": []
   },
   "outputs": [],
   "source": [
    "class Environment(robobo.SimulationRobobo):\n",
    "    def __init__(self,act_granularity_s=.75,add_noise=False,\n",
    "                 sim_time_s=np.inf,number=\"#\"\n",
    "                 ):\n",
    "        super().__init__(number=number)\n",
    "        super().connect('192.168.1.133', 19997)\n",
    "        self.attempts = 0\n",
    "        self.add_noise = add_noise\n",
    "        self.action_space = {0:(25, 25),\n",
    "                               1:(0, 0),\n",
    "                               2:(-30, -30),\n",
    "                               3:(25, 5),\n",
    "                               4:(5, 25),\n",
    "                               5:(20,10),\n",
    "                               6:(10, 20),\n",
    "                             7:(-25, 5),\n",
    "                             8:(5,-25)}\n",
    "        self.last_state = np.zeros(8)\n",
    "        self.last_action = np.array([0,0])\n",
    "        self.sim_time = sim_time_s * 1000.\n",
    "        self.initiated = False\n",
    "        self.fps = 1000 / act_granularity_s\n",
    "        self.act_granularity = act_granularity_s * 1000\n",
    "    def start_sim(self): return self.play_simulation()\n",
    "    def end_sim(self): return self.stop_world()\n",
    "    def pause_sim(self): return self.pause_simulation()\n",
    "    def reset(self):\n",
    "        try:\n",
    "            if self.is_simulation_running():\n",
    "                self.end_sim()\n",
    "                self.start_sim()\n",
    "            else:\n",
    "                self.start_sim()\n",
    "            time.sleep(2)\n",
    "            return self.get_state()\n",
    "        except:\n",
    "            print(f\"Fail - Attempt {self.attempts}\")\n",
    "            self.attempts += 1\n",
    "            self.disconnect()\n",
    "            self.connect('192.168.1.133', 19997)\n",
    "            self.reset()\n",
    "    def get_state(self, add_noise=True):\n",
    "        if self.is_simulation_running():\n",
    "            #todo do in parent class\n",
    "            X1 = np.array([[ .2 if not _ else _ for _ in env.read_irs() ]])\n",
    "            X1 = (X1 - 0.) / (.2 - 0.) \n",
    "            X1 = 1 - X1 \n",
    "            X1[0,:3] = X1[0,:3] * 1.5\n",
    "            return X1\n",
    "        else:\n",
    "            print(\"failed to read irs\")\n",
    "            self.start_sim()\n",
    "            return self.get_state()\n",
    "    def step(self, action, discrete=True):\n",
    "        if not discrete:\n",
    "            action = action[0][0] * 100\n",
    "        else:\n",
    "            a = action\n",
    "            action = np.array(self.action_space[action])\n",
    "        self.move(action[0], action[1], self.act_granularity)\n",
    "        new_state = self.get_state()\n",
    "        penalty = np.exp(new_state.sum()) \n",
    "        penalty_prev = np.exp(self.last_state.sum()) \n",
    "        #((penalty_prev + penalty)) * (penalty_prev / penalty)\n",
    "        #reward = action.sum()\n",
    "        #diff = penalty_prev - penalty_prev\n",
    "        #reward -= (penalty_prev/penalty) * action.sum().__abs__() - penalty\n",
    "        #reward = { 0 : 20, 1: 1, 2: 1, 3:1, 4:1 }[a] if penalty==1. else 0\n",
    "        #reward =  np.maximum(np.array(action).sum(), 0.) - np.abs(action[0] - action[1])*0.5 - 10*penalty - penalty_prev \n",
    "        #reward = - 2*(penalty / penalty_prev)*penalty\n",
    "        reward = - penalty #+np.maximum(np.array(action).sum(), 0.)*0.25\n",
    "        reward += {0:2, 1:0,2:-1, 3:0.5,4:0.5,5:0.5,6:0.5, 7: -.5, 8:-.5}[a]\n",
    "        #if penalty + penalty_prev == 2. and action.sum() == 40:#\n",
    "        #    reward += 5\n",
    "        #sensors = np.exp(new_state.sum()*1.25) \n",
    "        #rot = np.abs(action[0] - action[1])\n",
    "        #rot_norm = rot / 200\n",
    "        #if action.sum() < 0:\n",
    "        #    action = np.log(np.abs([20,20])*0.04)\n",
    "        #reward = action.sum() * ( 1 - rot_norm ) * ( 1 - new_state.max())\n",
    "        # -\n",
    "        #reward = np.maximum(action.sum()*0.25, 0)\n",
    "        #reward -= sensors\n",
    "        # -\n",
    "        #penalty = np.exp(new_state.sum())\n",
    "        #reward = np.maximum(action.sum(), 0) * 0.25 * (1 - penalty/ 21.746)\n",
    "        #print(reward, \" - \", penalty)\n",
    "        #reward -= penalty\n",
    "        #reward -= np.sqrt(rot) #* 0.1\n",
    "        #reward -= (action - self.last_action).__abs__().sum()**.5\n",
    "        #reward = - np.exp(new_state.sum())\n",
    "        #reward *= action.sum()\n",
    "        #reward = (1 / (np.exp(new_state.sum()) / np.exp(state.sum()))) * action.sum() \n",
    "        #reward = action.sum() * ( 1 - action.abs().sum()/100) * (1 - next_state.max())\n",
    "        if self.add_noise:\n",
    "            reward = np.random.normal(reward, 3)\n",
    "            new_state = np.random.normal(new_state, .01)\n",
    "        done = False #if not self.get_sim_time() > self.sim_time else True\n",
    "        self.last_state = new_state\n",
    "        self.last_action = action\n",
    "        return new_state, reward, done\n",
    "\n",
    "            "
   ]
  },
  {
   "cell_type": "code",
   "execution_count": 4,
   "id": "b3e24c59-efd5-4583-a934-3f478df1e0bd",
   "metadata": {},
   "outputs": [],
   "source": [
    "with open(\"viable_states_26\", \"rb\") as f:\n",
    "    viable_states = pickle.load(f)\n",
    "viable_actions = list(range(9))"
   ]
  },
  {
   "cell_type": "code",
   "execution_count": 5,
   "id": "e17e7c8c-922f-431a-9ac3-f06de35e785f",
   "metadata": {},
   "outputs": [],
   "source": [
    "alpha = 0.125\n",
    "gamma = 0.99\n",
    "epsilon = .8"
   ]
  },
  {
   "cell_type": "code",
   "execution_count": 6,
   "id": "9186a8b9-b03c-4c87-8e3c-3e032384a8fd",
   "metadata": {},
   "outputs": [],
   "source": [
    "def choice(state):\n",
    "    q_s = [q for q in Q if q[0] == state]\n",
    "    q_s_vals = [Q[q] for q in q_s]\n",
    "    a_q_max = [q[1] for q in q_s if Q[q] == max(q_s_vals)]\n",
    "    policy[state] = a_q_max\n",
    "    if np.random.binomial(1, epsilon) == 1:\n",
    "        return a_q_max[0] if len(a_q_max)==1 else random_select(a_q_max)\n",
    "    else:\n",
    "        other_actions = [_ for _ in viable_actions if _ not in a_q_max ]\n",
    "        return random_select(other_actions) if len(other_actions) != 0 else random_select(viable_actions)"
   ]
  },
  {
   "cell_type": "code",
   "execution_count": 7,
   "id": "c47ba276-5df5-48e5-a31d-66b7c4a394b3",
   "metadata": {},
   "outputs": [],
   "source": [
    "Q = {(s, a) : 10. for s in viable_states for a in viable_actions}"
   ]
  },
  {
   "cell_type": "code",
   "execution_count": 8,
   "id": "960f9d05-da47-4a34-a2b2-7ece59bd01c7",
   "metadata": {},
   "outputs": [],
   "source": [
    "policy = {state : viable_actions for state in viable_states}"
   ]
  },
  {
   "cell_type": "code",
   "execution_count": 8,
   "id": "64025a69-b64f-419d-b9ce-4800c9770b6e",
   "metadata": {},
   "outputs": [],
   "source": [
    "n_episodes = 100\n",
    "n_steps = 500"
   ]
  },
  {
   "cell_type": "code",
   "execution_count": 40,
   "id": "6876fcdf-832d-4648-a504-afda30da052d",
   "metadata": {},
   "outputs": [
    {
     "name": "stdout",
     "output_type": "stream",
     "text": [
      "10 episode_scores = []\n",
      "rewards = []\n",
      "for episode in range(1):\n",
      "    env = Environment()\n",
      "    env.start_sim()\n",
      "    state = env.get_state()\n",
      "    state = tuple(state[0])\n",
      "    score = 0\n",
      "    for i in tqdm(range(300)):\n",
      "        state = np.where(np.array([state]) > .01, 1, 0)\n",
      "        state = tuple(state[0])\n",
      "        if state not in viable_states:\n",
      "            viable_states.append(state)\n",
      "            for action in viable_actions:\n",
      "                Q[(state, action)] = 10.\n",
      "        action = choice(state)\n",
      "        next_state, reward, _ = env.step(action)\n",
      "        next_state = np.where(next_state > .01, 1, 0)\n",
      "        next_state = tuple(next_state[0])\n",
      "        if next_state not in viable_states:\n",
      "            viable_states.append(next_state)\n",
      "            for action in viable_actions:\n",
      "                Q[(next_state, action)] = 10.\n",
      "        Q[(state, action)] += alpha*(reward + gamma*Q[(next_state, choice(next_state))] - Q[(state, action)] )\n",
      "        state = next_state\n",
      "        score += reward\n",
      "        rewards.append(reward)\n",
      "    episode_scores.append(score)\n",
      "    env.end_sim()\n",
      "    env.disconnect()\n",
      "    if save:\n",
      "        with open(\"./QLearner/viable_states_%s\" % episode, \"wb\") as f:\n",
      "            pickle.dump(viable_states, f)\n",
      "        with open(\"./QLearner/policy_%s\" % episode, \"wb\") as f:\n",
      "            pickle.dump(policy, f)\n",
      "        with open(\"./QLearner/qtable_%s\" % episode, \"wb\") as f:\n",
      "            pickle.dump(Q, f)\n",
      "14 for episode in range(1):\n",
      "    env = Environment()\n",
      "    env.start_sim()\n",
      "    state = env.get_state()\n",
      "    state = tuple(state[0])\n",
      "    score = 0\n",
      "    for i in tqdm(range(700)):\n",
      "        state = np.where(np.array([state]) > .01, 1, 0)\n",
      "        state = tuple(state[0])\n",
      "        if state not in viable_states:\n",
      "            viable_states.append(state)\n",
      "            for action in viable_actions:\n",
      "                Q[(state, action)] = 10.\n",
      "        action = choice(state)\n",
      "        next_state, reward, _ = env.step(action)\n",
      "        next_state = np.where(next_state > .01, 1, 0)\n",
      "        next_state = tuple(next_state[0])\n",
      "        if next_state not in viable_states:\n",
      "            viable_states.append(next_state)\n",
      "            for action in viable_actions:\n",
      "                Q[(next_state, action)] = 10.\n",
      "        Q[(state, action)] += alpha*(reward + gamma*Q[(next_state, choice(next_state))] - Q[(state, action)] )\n",
      "        state = next_state\n",
      "        score += reward\n",
      "        rewards.append(reward)\n",
      "    episode_scores.append(score)\n",
      "    env.end_sim()\n",
      "    env.disconnect()\n",
      "    if save:\n",
      "        with open(\"./QLearner/viable_states_%s\" % episode, \"wb\") as f:\n",
      "            pickle.dump(viable_states, f)\n",
      "        with open(\"./QLearner/policy_%s\" % episode, \"wb\") as f:\n",
      "            pickle.dump(policy, f)\n",
      "        with open(\"./QLearner/qtable_%s\" % episode, \"wb\") as f:\n",
      "            pickle.dump(Q, f)\n",
      "26 pd.Series(episode_scores).mean(2).plot(style=\".-\", grid=True)\n",
      "27 pd.Series(episode_scores).rolling(2).mean().plot(style=\".-\", grid=True)\n",
      "32 for i in In:\n",
      "    if \"pd.Series(episode_scores\" in i:\n",
      "        print(i)\n",
      "        \n",
      "33 for i in In:\n",
      "    if \"pd.Series(episode_scores\" in i:\n",
      "        print(I.index(i))\n",
      "        \n",
      "34 for i in In:\n",
      "    if \"pd.Series(episode_scores\" in i:\n",
      "        print(In.index(i))\n",
      "        \n",
      "34 for i in In:\n",
      "    if \"pd.Series(episode_scores\" in i:\n",
      "        print(In.index(i))\n",
      "        \n",
      "40 for i in In:\n",
      "    if \"episode_scores\" in i:\n",
      "        print(In.index(i), i)\n",
      "        \n"
     ]
    }
   ],
   "source": [
    "for i in In:\n",
    "    if \"episode_scores\" in i:\n",
    "        print(In.index(i), i)\n",
    "        "
   ]
  },
  {
   "cell_type": "code",
   "execution_count": 38,
   "id": "604d6955-f345-4d95-b6f8-0cb6fbd9ae24",
   "metadata": {},
   "outputs": [
    {
     "data": {
      "text/plain": [
       "<AxesSubplot:xlabel='t', ylabel='reward'>"
      ]
     },
     "execution_count": 38,
     "metadata": {},
     "output_type": "execute_result"
    }
   ],
   "source": [
    "Out[26]"
   ]
  },
  {
   "cell_type": "code",
   "execution_count": 31,
   "id": "cc6c54c4-cd6e-448c-9c2a-a22632674624",
   "metadata": {},
   "outputs": [
    {
     "data": {
      "text/plain": [
       "<AxesSubplot:xlabel='t', ylabel='reward'>"
      ]
     },
     "execution_count": 31,
     "metadata": {},
     "output_type": "execute_result"
    },
    {
     "data": {
      "image/png": "[encoded data removed]",
      "text/plain": [
       "<Figure size 432x288 with 1 Axes>"
      ]
     },
     "metadata": {
      "needs_background": "light"
     },
     "output_type": "display_data"
    }
   ],
   "source": [
    "pd.Series(rewards).cumsum().plot(grid=True,ylabel=\"reward\",xlabel=\"t\")"
   ]
  },
  {
   "cell_type": "code",
   "execution_count": 25,
   "id": "a83e1b12-9b8f-4654-a1cd-4ed840dfda38",
   "metadata": {},
   "outputs": [
    {
     "data": {
      "text/plain": [
       "<AxesSubplot:xlabel='t', ylabel='reward'>"
      ]
     },
     "execution_count": 25,
     "metadata": {},
     "output_type": "execute_result"
    },
    {
     "data": {
      "image/png": "[encoded data removed]",
      "text/plain": [
       "<Figure size 432x288 with 1 Axes>"
      ]
     },
     "metadata": {
      "needs_background": "light"
     },
     "output_type": "display_data"
    }
   ],
   "source": [
    "pd.Series(rewards)[:500].rolling(5).mean().plot(grid=True,ylabel=\"reward\",xlabel=\"t\")"
   ]
  },
  {
   "cell_type": "code",
   "execution_count": null,
   "id": "7728ac23-a5ef-4c8c-9245-4aad3a8228a6",
   "metadata": {},
   "outputs": [],
   "source": [
    "episode_scores = []\n",
    "rewards = []\n",
    "save=False"
   ]
  },
  {
   "cell_type": "code",
   "execution_count": 14,
   "id": "0f2fbf76-f2cd-4719-8fb1-ea3effa07402",
   "metadata": {},
   "outputs": [
    {
     "name": "stdout",
     "output_type": "stream",
     "text": [
      "Connected to remote API server: client id 0\n"
     ]
    },
    {
     "name": "stderr",
     "output_type": "stream",
     "text": [
      "100%|█████████████████████████████████████████| 700/700 [06:37<00:00,  1.76it/s]\n"
     ]
    }
   ],
   "source": [
    "\n",
    "for episode in range(1):\n",
    "    env = Environment()\n",
    "    env.start_sim()\n",
    "    state = env.get_state()\n",
    "    state = tuple(state[0])\n",
    "    score = 0\n",
    "    for i in tqdm(range(700)):\n",
    "        state = np.where(np.array([state]) > .01, 1, 0)\n",
    "        state = tuple(state[0])\n",
    "        if state not in viable_states:\n",
    "            viable_states.append(state)\n",
    "            for action in viable_actions:\n",
    "                Q[(state, action)] = 10.\n",
    "        action = choice(state)\n",
    "        next_state, reward, _ = env.step(action)\n",
    "        next_state = np.where(next_state > .01, 1, 0)\n",
    "        next_state = tuple(next_state[0])\n",
    "        if next_state not in viable_states:\n",
    "            viable_states.append(next_state)\n",
    "            for action in viable_actions:\n",
    "                Q[(next_state, action)] = 10.\n",
    "        Q[(state, action)] += alpha*(reward + gamma*Q[(next_state, choice(next_state))] - Q[(state, action)] )\n",
    "        state = next_state\n",
    "        score += reward\n",
    "        rewards.append(reward)\n",
    "    episode_scores.append(score)\n",
    "    env.end_sim()\n",
    "    env.disconnect()\n",
    "    if save:\n",
    "        with open(\"./QLearner/viable_states_%s\" % episode, \"wb\") as f:\n",
    "            pickle.dump(viable_states, f)\n",
    "        with open(\"./QLearner/policy_%s\" % episode, \"wb\") as f:\n",
    "            pickle.dump(policy, f)\n",
    "        with open(\"./QLearner/qtable_%s\" % episode, \"wb\") as f:\n",
    "            pickle.dump(Q, f)\n",
    "\n"
   ]
  },
  {
   "cell_type": "code",
   "execution_count": 13,
   "id": "47695ae6-95a4-413d-a64d-0190148fd306",
   "metadata": {},
   "outputs": [],
   "source": [
    "env.move(-20,-20,400)"
   ]
  },
  {
   "cell_type": "code",
   "execution_count": null,
   "id": "890fe0c5-d254-445c-985b-6a85266079fc",
   "metadata": {},
   "outputs": [],
   "source": []
  }
 ],
 "metadata": {
  "kernelspec": {
   "display_name": "Python 3.8 - learning_machines",
   "language": "python",
   "name": "learning_machines"
  },
  "language_info": {
   "codemirror_mode": {
    "name": "ipython",
    "version": 3
   },
   "file_extension": ".py",
   "mimetype": "text/x-python",
   "name": "python",
   "nbconvert_exporter": "python",
   "pygments_lexer": "ipython3",
   "version": "3.8.12"
  }
 },
 "nbformat": 4,
 "nbformat_minor": 5
}
